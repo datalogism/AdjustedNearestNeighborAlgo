{
 "cells": [
  {
   "cell_type": "markdown",
   "metadata": {},
   "source": [
    "### Generate toy imbalanced dataset"
   ]
  },
  {
   "cell_type": "code",
   "execution_count": 50,
   "metadata": {},
   "outputs": [],
   "source": [
    "from collections import Counter\n",
    "from sklearn.datasets import make_classification\n",
    "from matplotlib import pyplot\n",
    "from numpy import where\n",
    "import matplotlib.pyplot as plt"
   ]
  },
  {
   "cell_type": "code",
   "execution_count": 51,
   "metadata": {},
   "outputs": [
    {
     "name": "stdout",
     "output_type": "stream",
     "text": [
      "Counter({0: 4950, 1: 50})\n"
     ]
    }
   ],
   "source": [
    "# define dataset\n",
    "X, y = make_classification(n_samples=5000, n_features=2, n_redundant=0,\n",
    "\tn_clusters_per_class=1, weights=[0.99], flip_y=0)\n",
    "\n",
    "# summarize class distribution\n",
    "counter = Counter(y)\n",
    "print(counter)\n",
    "# scatter plot of examples by class label\n"
   ]
  },
  {
   "cell_type": "code",
   "execution_count": 52,
   "metadata": {},
   "outputs": [
    {
     "data": {
      "image/png": "[encoded data removed]",
      "text/plain": [
       "<Figure size 360x360 with 1 Axes>"
      ]
     },
     "metadata": {
      "needs_background": "light"
     },
     "output_type": "display_data"
    }
   ],
   "source": [
    "\n",
    "plt.figure(figsize=(5, 5))\n",
    "for label, _ in counter.items():\n",
    "    row_ix = where(y == label)[0]\n",
    "    plt.scatter(X[row_ix, 0], X[row_ix, 1])\n",
    "plt.show() "
   ]
  },
  {
   "cell_type": "code",
   "execution_count": 53,
   "metadata": {},
   "outputs": [
    {
     "name": "stdout",
     "output_type": "stream",
     "text": [
      "INIT\n",
      "FIT\n",
      "'os :' None\n",
      "finish\n",
      "predict\n",
      "INIT\n",
      "FIT\n",
      "'os :' None\n",
      "finish\n",
      "predict\n",
      "INIT\n",
      "FIT\n",
      "'os :' None\n",
      "finish\n",
      "predict\n",
      "INIT\n",
      "FIT\n",
      "'os :' None\n",
      "finish\n",
      "predict\n",
      "INIT\n",
      "FIT\n",
      "'os :' None\n",
      "finish\n",
      "predict\n",
      "INIT\n",
      "FIT\n",
      "'os :' None\n",
      "finish\n",
      "predict\n",
      "INIT\n",
      "FIT\n",
      "'os :' None\n",
      "finish\n",
      "predict\n",
      "INIT\n",
      "FIT\n",
      "'os :' None\n",
      "finish\n",
      "predict\n",
      "INIT\n",
      "FIT\n",
      "'os :' None\n",
      "finish\n",
      "predict\n",
      "INIT\n",
      "FIT\n",
      "'os :' None\n",
      "finish\n",
      "predict\n",
      "INIT\n",
      "FIT\n",
      "'os :' None\n",
      "finish\n",
      "predict\n",
      "INIT\n",
      "FIT\n",
      "'os :' None\n",
      "finish\n",
      "predict\n",
      "INIT\n",
      "FIT\n",
      "'os :' None\n",
      "finish\n",
      "predict\n",
      "INIT\n",
      "FIT\n",
      "'os :' None\n",
      "finish\n",
      "predict\n",
      "INIT\n",
      "FIT\n",
      "'os :' None\n",
      "finish\n",
      "predict\n",
      "INIT\n",
      "FIT\n",
      "'os :' None\n",
      "finish\n",
      "predict\n",
      "INIT\n",
      "FIT\n",
      "'os :' None\n",
      "finish\n",
      "predict\n",
      "INIT\n",
      "FIT\n",
      "'os :' None\n",
      "finish\n",
      "predict\n",
      "INIT\n",
      "FIT\n",
      "'os :' None\n",
      "finish\n",
      "predict\n",
      "INIT\n",
      "FIT\n",
      "'os :' None\n",
      "finish\n",
      "predict\n",
      "INIT\n",
      "FIT\n",
      "'os :' None\n",
      "finish\n",
      "predict\n"
     ]
    }
   ],
   "source": [
    "import numpy as np\n",
    "from models_perso import GammaKnn\n",
    "from sklearn.metrics import confusion_matrix\n",
    "from sklearn.model_selection import train_test_split\n",
    "from sklearn.neighbors import KNeighborsClassifier\n",
    "\n",
    "neigh = KNeighborsClassifier(n_neighbors=3)\n",
    "neigh.fit(X_train, y_train)\n",
    "KNeighborsClassifier(...)\n",
    "\n",
    "pred = neigh.predict(X_test)\n",
    "TN, FP, FN, TP = confusion_matrix(y_test, pred).ravel()\n",
    "\n",
    "f_measure = (1+beta**2)*TP / ((1+beta**2)*TP+(beta**2)*FN+FP)\n",
    "knn_F=round(f_measure, 3)\n",
    "\n",
    "results=[]\n",
    "beta = 1\n",
    "\n",
    "gamma_list=np.arange(0, 2.1, 0.1)\n",
    "for gamma in gamma_list:\n",
    "    X_train, X_test, y_train, y_test = train_test_split(X, y, test_size=0.2,random_state=123)\n",
    "    gammaKnn = GammaKnn(nb_nn=3, gamma=gamma)\n",
    "    gammaKnn.fit(X_train, y_train,None)\n",
    "\n",
    "    pred = gammaKnn.predict(X_test)\n",
    "    TN, FP, FN, TP = confusion_matrix(y_test, pred).ravel()\n",
    "\n",
    "    f_measure = (1+beta**2)*TP / ((1+beta**2)*TP+(beta**2)*FN+FP)\n",
    "    results.append({\"gamma\":round(gamma,2),\"F\":round(f_measure, 3),\"TN\":TN,\"FP\":FP,\"TP\":TP})"
   ]
  },
  {
   "cell_type": "code",
   "execution_count": 54,
   "metadata": {},
   "outputs": [
    {
     "name": "stdout",
     "output_type": "stream",
     "text": [
      "    gamma      F   TN   FP  TP\n",
      "0     0.0  0.024    0  988  12\n",
      "1     0.1  0.183  881  107  12\n",
      "2     0.2  0.379  953   35  11\n",
      "3     0.3  0.419  966   22   9\n",
      "4     0.4  0.500  976   12   8\n",
      "5     0.5  0.593  981    7   8\n",
      "6     0.6  0.696  985    3   8\n",
      "7     0.7  0.727  986    2   8\n",
      "8     0.8  0.762  987    1   8\n",
      "9     0.9  0.700  987    1   7\n",
      "10    1.0  0.632  987    1   6\n",
      "11    1.1  0.632  987    1   6\n",
      "12    1.2  0.588  988    0   5\n",
      "13    1.3  0.588  988    0   5\n",
      "14    1.4  0.500  988    0   4\n",
      "15    1.5  0.500  988    0   4\n",
      "16    1.6  0.500  988    0   4\n",
      "17    1.7  0.500  988    0   4\n",
      "18    1.8  0.500  988    0   4\n",
      "19    1.9  0.500  988    0   4\n",
      "20    2.0  0.400  988    0   3\n"
     ]
    }
   ],
   "source": [
    "import pandas as pd \n",
    "\n",
    "DS=pd.DataFrame(results)\n",
    "print(DS)"
   ]
  },
  {
   "cell_type": "code",
   "execution_count": 55,
   "metadata": {},
   "outputs": [
    {
     "data": {
      "image/png": "[encoded data removed]",
      "text/plain": [
       "<Figure size 360x360 with 1 Axes>"
      ]
     },
     "metadata": {
      "needs_background": "light"
     },
     "output_type": "display_data"
    }
   ],
   "source": [
    "import matplotlib.lines as lines\n",
    "plt.figure(figsize=(5, 5))\n",
    "plt.scatter(DS['gamma'], DS['F'])\n",
    "plt.axhline(y=knn_F, color='r', linestyle='-')\n",
    "\n",
    "plt.show() "
   ]
  },
  {
   "cell_type": "code",
   "execution_count": null,
   "metadata": {},
   "outputs": [],
   "source": []
  }
 ],
 "metadata": {
  "kernelspec": {
   "display_name": "Python 3",
   "language": "python",
   "name": "python3"
  },
  "language_info": {
   "codemirror_mode": {
    "name": "ipython",
    "version": 3
   },
   "file_extension": ".py",
   "mimetype": "text/x-python",
   "name": "python",
   "nbconvert_exporter": "python",
   "pygments_lexer": "ipython3",
   "version": "3.7.0"
  }
 },
 "nbformat": 4,
 "nbformat_minor": 4
}
