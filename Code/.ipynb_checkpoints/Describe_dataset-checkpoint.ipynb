{
 "cells": [
  {
   "cell_type": "code",
   "execution_count": 40,
   "metadata": {},
   "outputs": [
    {
     "name": "stdout",
     "output_type": "stream",
     "text": [
      "         1     2     3     4    5    6     7     8    9\n",
      "0     0.58  0.61  0.47  0.13  0.5  0.0  0.48  0.22  MIT\n",
      "1     0.43  0.67  0.48  0.27  0.5  0.0  0.53  0.22  MIT\n",
      "2     0.64  0.62  0.49  0.15  0.5  0.0  0.53  0.22  MIT\n",
      "3     0.58  0.44  0.57  0.13  0.5  0.0  0.54  0.22  NUC\n",
      "4     0.42  0.44  0.48  0.54  0.5  0.0  0.48  0.22  MIT\n",
      "...    ...   ...   ...   ...  ...  ...   ...   ...  ...\n",
      "1479  0.81  0.62  0.43  0.17  0.5  0.0  0.53  0.22  ME2\n",
      "1480  0.47  0.43  0.61  0.40  0.5  0.0  0.48  0.47  NUC\n",
      "1481  0.67  0.57  0.36  0.19  0.5  0.0  0.56  0.22  ME2\n",
      "1482  0.43  0.40  0.60  0.16  0.5  0.0  0.53  0.39  NUC\n",
      "1483  0.65  0.54  0.54  0.13  0.5  0.0  0.53  0.22  CYT\n",
      "\n",
      "[1484 rows x 9 columns]\n",
      "         1     2     3     4    5    6     7     8    9\n",
      "0     0.58  0.61  0.47  0.13  0.5  0.0  0.48  0.22  MIT\n",
      "1     0.43  0.67  0.48  0.27  0.5  0.0  0.53  0.22  MIT\n",
      "2     0.64  0.62  0.49  0.15  0.5  0.0  0.53  0.22  MIT\n",
      "3     0.58  0.44  0.57  0.13  0.5  0.0  0.54  0.22  NUC\n",
      "4     0.42  0.44  0.48  0.54  0.5  0.0  0.48  0.22  MIT\n",
      "...    ...   ...   ...   ...  ...  ...   ...   ...  ...\n",
      "1479  0.81  0.62  0.43  0.17  0.5  0.0  0.53  0.22  ME2\n",
      "1480  0.47  0.43  0.61  0.40  0.5  0.0  0.48  0.47  NUC\n",
      "1481  0.67  0.57  0.36  0.19  0.5  0.0  0.56  0.22  ME2\n",
      "1482  0.43  0.40  0.60  0.16  0.5  0.0  0.53  0.39  NUC\n",
      "1483  0.65  0.54  0.54  0.13  0.5  0.0  0.53  0.22  CYT\n",
      "\n",
      "[1484 rows x 9 columns]\n"
     ]
    }
   ],
   "source": [
    "import mock\n",
    "import time\n",
    "import os\n",
    "\n",
    "from functions import data_recovery\n",
    "\n",
    "date = time.strftime(\"%Y_%b_%d_%H_%M_%S\", time.localtime(round(time.time())))\n",
    "\n",
    "dataset_list=[\"satimage\",\"pageblocks\",\"abalone20\",\"abalone17\",\\\n",
    "                    \"abalone8\",\"segmentation\",\"wine4\",\"yeast6\",\"yeast3\",\\\n",
    "                    \"german\",\"vehicle\",\"pima\",\"balance\",\"autompg\",\"libras\",\\\n",
    "                    \"iono\",\"glass\",\"wine\",\"hayes\"]\n",
    "\n",
    "opt = mock.Mock()\n",
    "dataset_stats=[]\n",
    "opt.dataset = None\n",
    "for ds in dataset_list:\n",
    "\tsetattr(opt, 'dataset', ds)\n",
    "\tX, y, dim = data_recovery(opt, date)\n",
    "\tsize = X.shape[0]\n",
    "\tunique, counts = np.unique(y, return_counts=True)\n",
    "\tstat=dict(zip(unique, counts))\n",
    "\tif(1 in stat.keys()):\n",
    "\t\tpos_part=stat[1]/size*100\n",
    "\t\tneg_part=100-pos_part\n",
    "\telse:\n",
    "\t\tpos_part=0\n",
    "\t\tneg_part=100\n",
    "\tr_n_part=round(neg_part,2)\n",
    "\tr_p_part=round(pos_part,2)\n",
    "\tif(pos_part>0):\n",
    "\t\tr_IR=round(neg_part/r_p_part,2)\n",
    "\telse:\n",
    "\t\tr_IR=0\n",
    "\tdataset_stats.append({\"dataset\":ds,\"size\":size,\"dim\":dim,\"pos_part\":r_p_part,\"neg_part\":r_n_part,\"IR\": r_IR})\n",
    "\n"
   ]
  },
  {
   "cell_type": "code",
   "execution_count": 43,
   "metadata": {},
   "outputs": [
    {
     "name": "stdout",
     "output_type": "stream",
     "text": [
      "         dataset  size  dim  pos_part  neg_part      IR\n",
      "0       satimage  6435   36      9.73     90.27    9.28\n",
      "1     pageblocks  5473   10     10.23     89.77    8.77\n",
      "2      abalone20  4177   10      0.62     99.38  160.29\n",
      "3      abalone17  4177   10      1.39     98.61   70.94\n",
      "4       abalone8  4177   10     13.60     86.40    6.35\n",
      "5   segmentation  2310   19     14.29     85.71    6.00\n",
      "6          wine4  1599   11      3.31     96.69   29.21\n",
      "7         yeast6  1484    8      0.00    100.00    0.00\n",
      "8         yeast3  1484    8      0.00    100.00    0.00\n",
      "9         german  1000   24     30.00     70.00    2.33\n",
      "10       vehicle   846   18     23.52     76.48    3.25\n",
      "11          pima   768    8     34.90     65.10    1.87\n",
      "12       balance   625    4     46.08     53.92    1.17\n",
      "13       autompg   392    7     37.50     62.50    1.67\n",
      "14        libras   360   90      6.67     93.33   13.99\n",
      "15          iono   351   34     35.90     64.10    1.79\n",
      "16         glass   214    9     32.71     67.29    2.06\n",
      "17          wine   178   13     33.15     66.85    2.02\n",
      "18         hayes   132    4     22.73     77.27    3.40\n"
     ]
    }
   ],
   "source": [
    "DS=pd.DataFrame(dataset_stats)\n",
    "print(DS)"
   ]
  },
  {
   "cell_type": "code",
   "execution_count": 60,
   "metadata": {},
   "outputs": [
    {
     "data": {
      "application/javascript": [
       "/* Put everything inside the global mpl namespace */\n",
       "window.mpl = {};\n",
       "\n",
       "\n",
       "mpl.get_websocket_type = function() {\n",
       "    if (typeof(WebSocket) !== 'undefined') {\n",
       "        return WebSocket;\n",
       "    } else if (typeof(MozWebSocket) !== 'undefined') {\n",
       "        return MozWebSocket;\n",
       "    } else {\n",
       "        alert('Your browser does not have WebSocket support. ' +\n",
       "              'Please try Chrome, Safari or Firefox ≥ 6. ' +\n",
       "              'Firefox 4 and 5 are also supported but you ' +\n",
       "              'have to enable WebSockets in about:config.');\n",
       "    };\n",
       "}\n",
       "\n",
       "mpl.figure = function(figure_id, websocket, ondownload, parent_element) {\n",
       "    this.id = figure_id;\n",
       "\n",
       "    this.ws = websocket;\n",
       "\n",
       "    this.supports_binary = (this.ws.binaryType != undefined);\n",
       "\n",
       "    if (!this.supports_binary) {\n",
       "        var warnings = document.getElementById(\"mpl-warnings\");\n",
       "        if (warnings) {\n",
       "            warnings.style.display = 'block';\n",
       "            warnings.textContent = (\n",
       "                \"This browser does not support binary websocket messages. \" +\n",
       "                    \"Performance may be slow.\");\n",
       "        }\n",
       "    }\n",
       "\n",
       "    this.imageObj = new Image();\n",
       "\n",
       "    this.context = undefined;\n",
       "    this.message = undefined;\n",
       "    this.canvas = undefined;\n",
       "    this.rubberband_canvas = undefined;\n",
       "    this.rubberband_context = undefined;\n",
       "    this.format_dropdown = undefined;\n",
       "\n",
       "    this.image_mode = 'full';\n",
       "\n",
       "    this.root = $('<div/>');\n",
       "    this._root_extra_style(this.root)\n",
       "    this.root.attr('style', 'display: inline-block');\n",
       "\n",
       "    $(parent_element).append(this.root);\n",
       "\n",
       "    this._init_header(this);\n",
       "    this._init_canvas(this);\n",
       "    this._init_toolbar(this);\n",
       "\n",
       "    var fig = this;\n",
       "\n",
       "    this.waiting = false;\n",
       "\n",
       "    this.ws.onopen =  function () {\n",
       "            fig.send_message(\"supports_binary\", {value: fig.supports_binary});\n",
       "            fig.send_message(\"send_image_mode\", {});\n",
       "            if (mpl.ratio != 1) {\n",
       "                fig.send_message(\"set_dpi_ratio\", {'dpi_ratio': mpl.ratio});\n",
       "            }\n",
       "            fig.send_message(\"refresh\", {});\n",
       "        }\n",
       "\n",
       "    this.imageObj.onload = function() {\n",
       "            if (fig.image_mode == 'full') {\n",
       "                // Full images could contain transparency (where diff images\n",
       "                // almost always do), so we need to clear the canvas so that\n",
       "                // there is no ghosting.\n",
       "                fig.context.clearRect(0, 0, fig.canvas.width, fig.canvas.height);\n",
       "            }\n",
       "            fig.context.drawImage(fig.imageObj, 0, 0);\n",
       "        };\n",
       "\n",
       "    this.imageObj.onunload = function() {\n",
       "        fig.ws.close();\n",
       "    }\n",
       "\n",
       "    this.ws.onmessage = this._make_on_message_function(this);\n",
       "\n",
       "    this.ondownload = ondownload;\n",
       "}\n",
       "\n",
       "mpl.figure.prototype._init_header = function() {\n",
       "    var titlebar = $(\n",
       "        '<div class=\"ui-dialog-titlebar ui-widget-header ui-corner-all ' +\n",
       "        'ui-helper-clearfix\"/>');\n",
       "    var titletext = $(\n",
       "        '<div class=\"ui-dialog-title\" style=\"width: 100%; ' +\n",
       "        'text-align: center; padding: 3px;\"/>');\n",
       "    titlebar.append(titletext)\n",
       "    this.root.append(titlebar);\n",
       "    this.header = titletext[0];\n",
       "}\n",
       "\n",
       "\n",
       "\n",
       "mpl.figure.prototype._canvas_extra_style = function(canvas_div) {\n",
       "\n",
       "}\n",
       "\n",
       "\n",
       "mpl.figure.prototype._root_extra_style = function(canvas_div) {\n",
       "\n",
       "}\n",
       "\n",
       "mpl.figure.prototype._init_canvas = function() {\n",
       "    var fig = this;\n",
       "\n",
       "    var canvas_div = $('<div/>');\n",
       "\n",
       "    canvas_div.attr('style', 'position: relative; clear: both; outline: 0');\n",
       "\n",
       "    function canvas_keyboard_event(event) {\n",
       "        return fig.key_event(event, event['data']);\n",
       "    }\n",
       "\n",
       "    canvas_div.keydown('key_press', canvas_keyboard_event);\n",
       "    canvas_div.keyup('key_release', canvas_keyboard_event);\n",
       "    this.canvas_div = canvas_div\n",
       "    this._canvas_extra_style(canvas_div)\n",
       "    this.root.append(canvas_div);\n",
       "\n",
       "    var canvas = $('<canvas/>');\n",
       "    canvas.addClass('mpl-canvas');\n",
       "    canvas.attr('style', \"left: 0; top: 0; z-index: 0; outline: 0\")\n",
       "\n",
       "    this.canvas = canvas[0];\n",
       "    this.context = canvas[0].getContext(\"2d\");\n",
       "\n",
       "    var backingStore = this.context.backingStorePixelRatio ||\n",
       "\tthis.context.webkitBackingStorePixelRatio ||\n",
       "\tthis.context.mozBackingStorePixelRatio ||\n",
       "\tthis.context.msBackingStorePixelRatio ||\n",
       "\tthis.context.oBackingStorePixelRatio ||\n",
       "\tthis.context.backingStorePixelRatio || 1;\n",
       "\n",
       "    mpl.ratio = (window.devicePixelRatio || 1) / backingStore;\n",
       "\n",
       "    var rubberband = $('<canvas/>');\n",
       "    rubberband.attr('style', \"position: absolute; left: 0; top: 0; z-index: 1;\")\n",
       "\n",
       "    var pass_mouse_events = true;\n",
       "\n",
       "    canvas_div.resizable({\n",
       "        start: function(event, ui) {\n",
       "            pass_mouse_events = false;\n",
       "        },\n",
       "        resize: function(event, ui) {\n",
       "            fig.request_resize(ui.size.width, ui.size.height);\n",
       "        },\n",
       "        stop: function(event, ui) {\n",
       "            pass_mouse_events = true;\n",
       "            fig.request_resize(ui.size.width, ui.size.height);\n",
       "        },\n",
       "    });\n",
       "\n",
       "    function mouse_event_fn(event) {\n",
       "        if (pass_mouse_events)\n",
       "            return fig.mouse_event(event, event['data']);\n",
       "    }\n",
       "\n",
       "    rubberband.mousedown('button_press', mouse_event_fn);\n",
       "    rubberband.mouseup('button_release', mouse_event_fn);\n",
       "    // Throttle sequential mouse events to 1 every 20ms.\n",
       "    rubberband.mousemove('motion_notify', mouse_event_fn);\n",
       "\n",
       "    rubberband.mouseenter('figure_enter', mouse_event_fn);\n",
       "    rubberband.mouseleave('figure_leave', mouse_event_fn);\n",
       "\n",
       "    canvas_div.on(\"wheel\", function (event) {\n",
       "        event = event.originalEvent;\n",
       "        event['data'] = 'scroll'\n",
       "        if (event.deltaY < 0) {\n",
       "            event.step = 1;\n",
       "        } else {\n",
       "            event.step = -1;\n",
       "        }\n",
       "        mouse_event_fn(event);\n",
       "    });\n",
       "\n",
       "    canvas_div.append(canvas);\n",
       "    canvas_div.append(rubberband);\n",
       "\n",
       "    this.rubberband = rubberband;\n",
       "    this.rubberband_canvas = rubberband[0];\n",
       "    this.rubberband_context = rubberband[0].getContext(\"2d\");\n",
       "    this.rubberband_context.strokeStyle = \"#000000\";\n",
       "\n",
       "    this._resize_canvas = function(width, height) {\n",
       "        // Keep the size of the canvas, canvas container, and rubber band\n",
       "        // canvas in synch.\n",
       "        canvas_div.css('width', width)\n",
       "        canvas_div.css('height', height)\n",
       "\n",
       "        canvas.attr('width', width * mpl.ratio);\n",
       "        canvas.attr('height', height * mpl.ratio);\n",
       "        canvas.attr('style', 'width: ' + width + 'px; height: ' + height + 'px;');\n",
       "\n",
       "        rubberband.attr('width', width);\n",
       "        rubberband.attr('height', height);\n",
       "    }\n",
       "\n",
       "    // Set the figure to an initial 600x600px, this will subsequently be updated\n",
       "    // upon first draw.\n",
       "    this._resize_canvas(600, 600);\n",
       "\n",
       "    // Disable right mouse context menu.\n",
       "    $(this.rubberband_canvas).bind(\"contextmenu\",function(e){\n",
       "        return false;\n",
       "    });\n",
       "\n",
       "    function set_focus () {\n",
       "        canvas.focus();\n",
       "        canvas_div.focus();\n",
       "    }\n",
       "\n",
       "    window.setTimeout(set_focus, 100);\n",
       "}\n",
       "\n",
       "mpl.figure.prototype._init_toolbar = function() {\n",
       "    var fig = this;\n",
       "\n",
       "    var nav_element = $('<div/>');\n",
       "    nav_element.attr('style', 'width: 100%');\n",
       "    this.root.append(nav_element);\n",
       "\n",
       "    // Define a callback function for later on.\n",
       "    function toolbar_event(event) {\n",
       "        return fig.toolbar_button_onclick(event['data']);\n",
       "    }\n",
       "    function toolbar_mouse_event(event) {\n",
       "        return fig.toolbar_button_onmouseover(event['data']);\n",
       "    }\n",
       "\n",
       "    for(var toolbar_ind in mpl.toolbar_items) {\n",
       "        var name = mpl.toolbar_items[toolbar_ind][0];\n",
       "        var tooltip = mpl.toolbar_items[toolbar_ind][1];\n",
       "        var image = mpl.toolbar_items[toolbar_ind][2];\n",
       "        var method_name = mpl.toolbar_items[toolbar_ind][3];\n",
       "\n",
       "        if (!name) {\n",
       "            // put a spacer in here.\n",
       "            continue;\n",
       "        }\n",
       "        var button = $('<button/>');\n",
       "        button.addClass('ui-button ui-widget ui-state-default ui-corner-all ' +\n",
       "                        'ui-button-icon-only');\n",
       "        button.attr('role', 'button');\n",
       "        button.attr('aria-disabled', 'false');\n",
       "        button.click(method_name, toolbar_event);\n",
       "        button.mouseover(tooltip, toolbar_mouse_event);\n",
       "\n",
       "        var icon_img = $('<span/>');\n",
       "        icon_img.addClass('ui-button-icon-primary ui-icon');\n",
       "        icon_img.addClass(image);\n",
       "        icon_img.addClass('ui-corner-all');\n",
       "\n",
       "        var tooltip_span = $('<span/>');\n",
       "        tooltip_span.addClass('ui-button-text');\n",
       "        tooltip_span.html(tooltip);\n",
       "\n",
       "        button.append(icon_img);\n",
       "        button.append(tooltip_span);\n",
       "\n",
       "        nav_element.append(button);\n",
       "    }\n",
       "\n",
       "    var fmt_picker_span = $('<span/>');\n",
       "\n",
       "    var fmt_picker = $('<select/>');\n",
       "    fmt_picker.addClass('mpl-toolbar-option ui-widget ui-widget-content');\n",
       "    fmt_picker_span.append(fmt_picker);\n",
       "    nav_element.append(fmt_picker_span);\n",
       "    this.format_dropdown = fmt_picker[0];\n",
       "\n",
       "    for (var ind in mpl.extensions) {\n",
       "        var fmt = mpl.extensions[ind];\n",
       "        var option = $(\n",
       "            '<option/>', {selected: fmt === mpl.default_extension}).html(fmt);\n",
       "        fmt_picker.append(option);\n",
       "    }\n",
       "\n",
       "    // Add hover states to the ui-buttons\n",
       "    $( \".ui-button\" ).hover(\n",
       "        function() { $(this).addClass(\"ui-state-hover\");},\n",
       "        function() { $(this).removeClass(\"ui-state-hover\");}\n",
       "    );\n",
       "\n",
       "    var status_bar = $('<span class=\"mpl-message\"/>');\n",
       "    nav_element.append(status_bar);\n",
       "    this.message = status_bar[0];\n",
       "}\n",
       "\n",
       "mpl.figure.prototype.request_resize = function(x_pixels, y_pixels) {\n",
       "    // Request matplotlib to resize the figure. Matplotlib will then trigger a resize in the client,\n",
       "    // which will in turn request a refresh of the image.\n",
       "    this.send_message('resize', {'width': x_pixels, 'height': y_pixels});\n",
       "}\n",
       "\n",
       "mpl.figure.prototype.send_message = function(type, properties) {\n",
       "    properties['type'] = type;\n",
       "    properties['figure_id'] = this.id;\n",
       "    this.ws.send(JSON.stringify(properties));\n",
       "}\n",
       "\n",
       "mpl.figure.prototype.send_draw_message = function() {\n",
       "    if (!this.waiting) {\n",
       "        this.waiting = true;\n",
       "        this.ws.send(JSON.stringify({type: \"draw\", figure_id: this.id}));\n",
       "    }\n",
       "}\n",
       "\n",
       "\n",
       "mpl.figure.prototype.handle_save = function(fig, msg) {\n",
       "    var format_dropdown = fig.format_dropdown;\n",
       "    var format = format_dropdown.options[format_dropdown.selectedIndex].value;\n",
       "    fig.ondownload(fig, format);\n",
       "}\n",
       "\n",
       "\n",
       "mpl.figure.prototype.handle_resize = function(fig, msg) {\n",
       "    var size = msg['size'];\n",
       "    if (size[0] != fig.canvas.width || size[1] != fig.canvas.height) {\n",
       "        fig._resize_canvas(size[0], size[1]);\n",
       "        fig.send_message(\"refresh\", {});\n",
       "    };\n",
       "}\n",
       "\n",
       "mpl.figure.prototype.handle_rubberband = function(fig, msg) {\n",
       "    var x0 = msg['x0'] / mpl.ratio;\n",
       "    var y0 = (fig.canvas.height - msg['y0']) / mpl.ratio;\n",
       "    var x1 = msg['x1'] / mpl.ratio;\n",
       "    var y1 = (fig.canvas.height - msg['y1']) / mpl.ratio;\n",
       "    x0 = Math.floor(x0) + 0.5;\n",
       "    y0 = Math.floor(y0) + 0.5;\n",
       "    x1 = Math.floor(x1) + 0.5;\n",
       "    y1 = Math.floor(y1) + 0.5;\n",
       "    var min_x = Math.min(x0, x1);\n",
       "    var min_y = Math.min(y0, y1);\n",
       "    var width = Math.abs(x1 - x0);\n",
       "    var height = Math.abs(y1 - y0);\n",
       "\n",
       "    fig.rubberband_context.clearRect(\n",
       "        0, 0, fig.canvas.width / mpl.ratio, fig.canvas.height / mpl.ratio);\n",
       "\n",
       "    fig.rubberband_context.strokeRect(min_x, min_y, width, height);\n",
       "}\n",
       "\n",
       "mpl.figure.prototype.handle_figure_label = function(fig, msg) {\n",
       "    // Updates the figure title.\n",
       "    fig.header.textContent = msg['label'];\n",
       "}\n",
       "\n",
       "mpl.figure.prototype.handle_cursor = function(fig, msg) {\n",
       "    var cursor = msg['cursor'];\n",
       "    switch(cursor)\n",
       "    {\n",
       "    case 0:\n",
       "        cursor = 'pointer';\n",
       "        break;\n",
       "    case 1:\n",
       "        cursor = 'default';\n",
       "        break;\n",
       "    case 2:\n",
       "        cursor = 'crosshair';\n",
       "        break;\n",
       "    case 3:\n",
       "        cursor = 'move';\n",
       "        break;\n",
       "    }\n",
       "    fig.rubberband_canvas.style.cursor = cursor;\n",
       "}\n",
       "\n",
       "mpl.figure.prototype.handle_message = function(fig, msg) {\n",
       "    fig.message.textContent = msg['message'];\n",
       "}\n",
       "\n",
       "mpl.figure.prototype.handle_draw = function(fig, msg) {\n",
       "    // Request the server to send over a new figure.\n",
       "    fig.send_draw_message();\n",
       "}\n",
       "\n",
       "mpl.figure.prototype.handle_image_mode = function(fig, msg) {\n",
       "    fig.image_mode = msg['mode'];\n",
       "}\n",
       "\n",
       "mpl.figure.prototype.updated_canvas_event = function() {\n",
       "    // Called whenever the canvas gets updated.\n",
       "    this.send_message(\"ack\", {});\n",
       "}\n",
       "\n",
       "// A function to construct a web socket function for onmessage handling.\n",
       "// Called in the figure constructor.\n",
       "mpl.figure.prototype._make_on_message_function = function(fig) {\n",
       "    return function socket_on_message(evt) {\n",
       "        if (evt.data instanceof Blob) {\n",
       "            /* FIXME: We get \"Resource interpreted as Image but\n",
       "             * transferred with MIME type text/plain:\" errors on\n",
       "             * Chrome.  But how to set the MIME type?  It doesn't seem\n",
       "             * to be part of the websocket stream */\n",
       "            evt.data.type = \"image/png\";\n",
       "\n",
       "            /* Free the memory for the previous frames */\n",
       "            if (fig.imageObj.src) {\n",
       "                (window.URL || window.webkitURL).revokeObjectURL(\n",
       "                    fig.imageObj.src);\n",
       "            }\n",
       "\n",
       "            fig.imageObj.src = (window.URL || window.webkitURL).createObjectURL(\n",
       "                evt.data);\n",
       "            fig.updated_canvas_event();\n",
       "            fig.waiting = false;\n",
       "            return;\n",
       "        }\n",
       "        else if (typeof evt.data === 'string' && evt.data.slice(0, 21) == \"data:image/png;base64\") {\n",
       "            fig.imageObj.src = evt.data;\n",
       "            fig.updated_canvas_event();\n",
       "            fig.waiting = false;\n",
       "            return;\n",
       "        }\n",
       "\n",
       "        var msg = JSON.parse(evt.data);\n",
       "        var msg_type = msg['type'];\n",
       "\n",
       "        // Call the  \"handle_{type}\" callback, which takes\n",
       "        // the figure and JSON message as its only arguments.\n",
       "        try {\n",
       "            var callback = fig[\"handle_\" + msg_type];\n",
       "        } catch (e) {\n",
       "            console.log(\"No handler for the '\" + msg_type + \"' message type: \", msg);\n",
       "            return;\n",
       "        }\n",
       "\n",
       "        if (callback) {\n",
       "            try {\n",
       "                // console.log(\"Handling '\" + msg_type + \"' message: \", msg);\n",
       "                callback(fig, msg);\n",
       "            } catch (e) {\n",
       "                console.log(\"Exception inside the 'handler_\" + msg_type + \"' callback:\", e, e.stack, msg);\n",
       "            }\n",
       "        }\n",
       "    };\n",
       "}\n",
       "\n",
       "// from http://stackoverflow.com/questions/1114465/getting-mouse-location-in-canvas\n",
       "mpl.findpos = function(e) {\n",
       "    //this section is from http://www.quirksmode.org/js/events_properties.html\n",
       "    var targ;\n",
       "    if (!e)\n",
       "        e = window.event;\n",
       "    if (e.target)\n",
       "        targ = e.target;\n",
       "    else if (e.srcElement)\n",
       "        targ = e.srcElement;\n",
       "    if (targ.nodeType == 3) // defeat Safari bug\n",
       "        targ = targ.parentNode;\n",
       "\n",
       "    // jQuery normalizes the pageX and pageY\n",
       "    // pageX,Y are the mouse positions relative to the document\n",
       "    // offset() returns the position of the element relative to the document\n",
       "    var x = e.pageX - $(targ).offset().left;\n",
       "    var y = e.pageY - $(targ).offset().top;\n",
       "\n",
       "    return {\"x\": x, \"y\": y};\n",
       "};\n",
       "\n",
       "/*\n",
       " * return a copy of an object with only non-object keys\n",
       " * we need this to avoid circular references\n",
       " * http://stackoverflow.com/a/24161582/3208463\n",
       " */\n",
       "function simpleKeys (original) {\n",
       "  return Object.keys(original).reduce(function (obj, key) {\n",
       "    if (typeof original[key] !== 'object')\n",
       "        obj[key] = original[key]\n",
       "    return obj;\n",
       "  }, {});\n",
       "}\n",
       "\n",
       "mpl.figure.prototype.mouse_event = function(event, name) {\n",
       "    var canvas_pos = mpl.findpos(event)\n",
       "\n",
       "    if (name === 'button_press')\n",
       "    {\n",
       "        this.canvas.focus();\n",
       "        this.canvas_div.focus();\n",
       "    }\n",
       "\n",
       "    var x = canvas_pos.x * mpl.ratio;\n",
       "    var y = canvas_pos.y * mpl.ratio;\n",
       "\n",
       "    this.send_message(name, {x: x, y: y, button: event.button,\n",
       "                             step: event.step,\n",
       "                             guiEvent: simpleKeys(event)});\n",
       "\n",
       "    /* This prevents the web browser from automatically changing to\n",
       "     * the text insertion cursor when the button is pressed.  We want\n",
       "     * to control all of the cursor setting manually through the\n",
       "     * 'cursor' event from matplotlib */\n",
       "    event.preventDefault();\n",
       "    return false;\n",
       "}\n",
       "\n",
       "mpl.figure.prototype._key_event_extra = function(event, name) {\n",
       "    // Handle any extra behaviour associated with a key event\n",
       "}\n",
       "\n",
       "mpl.figure.prototype.key_event = function(event, name) {\n",
       "\n",
       "    // Prevent repeat events\n",
       "    if (name == 'key_press')\n",
       "    {\n",
       "        if (event.which === this._key)\n",
       "            return;\n",
       "        else\n",
       "            this._key = event.which;\n",
       "    }\n",
       "    if (name == 'key_release')\n",
       "        this._key = null;\n",
       "\n",
       "    var value = '';\n",
       "    if (event.ctrlKey && event.which != 17)\n",
       "        value += \"ctrl+\";\n",
       "    if (event.altKey && event.which != 18)\n",
       "        value += \"alt+\";\n",
       "    if (event.shiftKey && event.which != 16)\n",
       "        value += \"shift+\";\n",
       "\n",
       "    value += 'k';\n",
       "    value += event.which.toString();\n",
       "\n",
       "    this._key_event_extra(event, name);\n",
       "\n",
       "    this.send_message(name, {key: value,\n",
       "                             guiEvent: simpleKeys(event)});\n",
       "    return false;\n",
       "}\n",
       "\n",
       "mpl.figure.prototype.toolbar_button_onclick = function(name) {\n",
       "    if (name == 'download') {\n",
       "        this.handle_save(this, null);\n",
       "    } else {\n",
       "        this.send_message(\"toolbar_button\", {name: name});\n",
       "    }\n",
       "};\n",
       "\n",
       "mpl.figure.prototype.toolbar_button_onmouseover = function(tooltip) {\n",
       "    this.message.textContent = tooltip;\n",
       "};\n",
       "mpl.toolbar_items = [[\"Home\", \"Reset original view\", \"fa fa-home icon-home\", \"home\"], [\"Back\", \"Back to previous view\", \"fa fa-arrow-left icon-arrow-left\", \"back\"], [\"Forward\", \"Forward to next view\", \"fa fa-arrow-right icon-arrow-right\", \"forward\"], [\"\", \"\", \"\", \"\"], [\"Pan\", \"Pan axes with left mouse, zoom with right\", \"fa fa-arrows icon-move\", \"pan\"], [\"Zoom\", \"Zoom to rectangle\", \"fa fa-square-o icon-check-empty\", \"zoom\"], [\"\", \"\", \"\", \"\"], [\"Download\", \"Download plot\", \"fa fa-floppy-o icon-save\", \"download\"]];\n",
       "\n",
       "mpl.extensions = [\"eps\", \"jpeg\", \"pdf\", \"png\", \"ps\", \"raw\", \"svg\", \"tif\"];\n",
       "\n",
       "mpl.default_extension = \"png\";var comm_websocket_adapter = function(comm) {\n",
       "    // Create a \"websocket\"-like object which calls the given IPython comm\n",
       "    // object with the appropriate methods. Currently this is a non binary\n",
       "    // socket, so there is still some room for performance tuning.\n",
       "    var ws = {};\n",
       "\n",
       "    ws.close = function() {\n",
       "        comm.close()\n",
       "    };\n",
       "    ws.send = function(m) {\n",
       "        //console.log('sending', m);\n",
       "        comm.send(m);\n",
       "    };\n",
       "    // Register the callback with on_msg.\n",
       "    comm.on_msg(function(msg) {\n",
       "        //console.log('receiving', msg['content']['data'], msg);\n",
       "        // Pass the mpl event to the overridden (by mpl) onmessage function.\n",
       "        ws.onmessage(msg['content']['data'])\n",
       "    });\n",
       "    return ws;\n",
       "}\n",
       "\n",
       "mpl.mpl_figure_comm = function(comm, msg) {\n",
       "    // This is the function which gets called when the mpl process\n",
       "    // starts-up an IPython Comm through the \"matplotlib\" channel.\n",
       "\n",
       "    var id = msg.content.data.id;\n",
       "    // Get hold of the div created by the display call when the Comm\n",
       "    // socket was opened in Python.\n",
       "    var element = $(\"#\" + id);\n",
       "    var ws_proxy = comm_websocket_adapter(comm)\n",
       "\n",
       "    function ondownload(figure, format) {\n",
       "        window.open(figure.imageObj.src);\n",
       "    }\n",
       "\n",
       "    var fig = new mpl.figure(id, ws_proxy,\n",
       "                           ondownload,\n",
       "                           element.get(0));\n",
       "\n",
       "    // Call onopen now - mpl needs it, as it is assuming we've passed it a real\n",
       "    // web socket which is closed, not our websocket->open comm proxy.\n",
       "    ws_proxy.onopen();\n",
       "\n",
       "    fig.parent_element = element.get(0);\n",
       "    fig.cell_info = mpl.find_output_cell(\"<div id='\" + id + \"'></div>\");\n",
       "    if (!fig.cell_info) {\n",
       "        console.error(\"Failed to find cell for figure\", id, fig);\n",
       "        return;\n",
       "    }\n",
       "\n",
       "    var output_index = fig.cell_info[2]\n",
       "    var cell = fig.cell_info[0];\n",
       "\n",
       "};\n",
       "\n",
       "mpl.figure.prototype.handle_close = function(fig, msg) {\n",
       "    var width = fig.canvas.width/mpl.ratio\n",
       "    fig.root.unbind('remove')\n",
       "\n",
       "    // Update the output cell to use the data from the current canvas.\n",
       "    fig.push_to_output();\n",
       "    var dataURL = fig.canvas.toDataURL();\n",
       "    // Re-enable the keyboard manager in IPython - without this line, in FF,\n",
       "    // the notebook keyboard shortcuts fail.\n",
       "    IPython.keyboard_manager.enable()\n",
       "    $(fig.parent_element).html('<img src=\"' + dataURL + '\" width=\"' + width + '\">');\n",
       "    fig.close_ws(fig, msg);\n",
       "}\n",
       "\n",
       "mpl.figure.prototype.close_ws = function(fig, msg){\n",
       "    fig.send_message('closing', msg);\n",
       "    // fig.ws.close()\n",
       "}\n",
       "\n",
       "mpl.figure.prototype.push_to_output = function(remove_interactive) {\n",
       "    // Turn the data on the canvas into data in the output cell.\n",
       "    var width = this.canvas.width/mpl.ratio\n",
       "    var dataURL = this.canvas.toDataURL();\n",
       "    this.cell_info[1]['text/html'] = '<img src=\"' + dataURL + '\" width=\"' + width + '\">';\n",
       "}\n",
       "\n",
       "mpl.figure.prototype.updated_canvas_event = function() {\n",
       "    // Tell IPython that the notebook contents must change.\n",
       "    IPython.notebook.set_dirty(true);\n",
       "    this.send_message(\"ack\", {});\n",
       "    var fig = this;\n",
       "    // Wait a second, then push the new image to the DOM so\n",
       "    // that it is saved nicely (might be nice to debounce this).\n",
       "    setTimeout(function () { fig.push_to_output() }, 1000);\n",
       "}\n",
       "\n",
       "mpl.figure.prototype._init_toolbar = function() {\n",
       "    var fig = this;\n",
       "\n",
       "    var nav_element = $('<div/>');\n",
       "    nav_element.attr('style', 'width: 100%');\n",
       "    this.root.append(nav_element);\n",
       "\n",
       "    // Define a callback function for later on.\n",
       "    function toolbar_event(event) {\n",
       "        return fig.toolbar_button_onclick(event['data']);\n",
       "    }\n",
       "    function toolbar_mouse_event(event) {\n",
       "        return fig.toolbar_button_onmouseover(event['data']);\n",
       "    }\n",
       "\n",
       "    for(var toolbar_ind in mpl.toolbar_items){\n",
       "        var name = mpl.toolbar_items[toolbar_ind][0];\n",
       "        var tooltip = mpl.toolbar_items[toolbar_ind][1];\n",
       "        var image = mpl.toolbar_items[toolbar_ind][2];\n",
       "        var method_name = mpl.toolbar_items[toolbar_ind][3];\n",
       "\n",
       "        if (!name) { continue; };\n",
       "\n",
       "        var button = $('<button class=\"btn btn-default\" href=\"#\" title=\"' + name + '\"><i class=\"fa ' + image + ' fa-lg\"></i></button>');\n",
       "        button.click(method_name, toolbar_event);\n",
       "        button.mouseover(tooltip, toolbar_mouse_event);\n",
       "        nav_element.append(button);\n",
       "    }\n",
       "\n",
       "    // Add the status bar.\n",
       "    var status_bar = $('<span class=\"mpl-message\" style=\"text-align:right; float: right;\"/>');\n",
       "    nav_element.append(status_bar);\n",
       "    this.message = status_bar[0];\n",
       "\n",
       "    // Add the close button to the window.\n",
       "    var buttongrp = $('<div class=\"btn-group inline pull-right\"></div>');\n",
       "    var button = $('<button class=\"btn btn-mini btn-primary\" href=\"#\" title=\"Stop Interaction\"><i class=\"fa fa-power-off icon-remove icon-large\"></i></button>');\n",
       "    button.click(function (evt) { fig.handle_close(fig, {}); } );\n",
       "    button.mouseover('Stop Interaction', toolbar_mouse_event);\n",
       "    buttongrp.append(button);\n",
       "    var titlebar = this.root.find($('.ui-dialog-titlebar'));\n",
       "    titlebar.prepend(buttongrp);\n",
       "}\n",
       "\n",
       "mpl.figure.prototype._root_extra_style = function(el){\n",
       "    var fig = this\n",
       "    el.on(\"remove\", function(){\n",
       "\tfig.close_ws(fig, {});\n",
       "    });\n",
       "}\n",
       "\n",
       "mpl.figure.prototype._canvas_extra_style = function(el){\n",
       "    // this is important to make the div 'focusable\n",
       "    el.attr('tabindex', 0)\n",
       "    // reach out to IPython and tell the keyboard manager to turn it's self\n",
       "    // off when our div gets focus\n",
       "\n",
       "    // location in version 3\n",
       "    if (IPython.notebook.keyboard_manager) {\n",
       "        IPython.notebook.keyboard_manager.register_events(el);\n",
       "    }\n",
       "    else {\n",
       "        // location in version 2\n",
       "        IPython.keyboard_manager.register_events(el);\n",
       "    }\n",
       "\n",
       "}\n",
       "\n",
       "mpl.figure.prototype._key_event_extra = function(event, name) {\n",
       "    var manager = IPython.notebook.keyboard_manager;\n",
       "    if (!manager)\n",
       "        manager = IPython.keyboard_manager;\n",
       "\n",
       "    // Check for shift+enter\n",
       "    if (event.shiftKey && event.which == 13) {\n",
       "        this.canvas_div.blur();\n",
       "        // select the cell after this one\n",
       "        var index = IPython.notebook.find_cell_index(this.cell_info[0]);\n",
       "        IPython.notebook.select(index + 1);\n",
       "    }\n",
       "}\n",
       "\n",
       "mpl.figure.prototype.handle_save = function(fig, msg) {\n",
       "    fig.ondownload(fig, null);\n",
       "}\n",
       "\n",
       "\n",
       "mpl.find_output_cell = function(html_output) {\n",
       "    // Return the cell and output element which can be found *uniquely* in the notebook.\n",
       "    // Note - this is a bit hacky, but it is done because the \"notebook_saving.Notebook\"\n",
       "    // IPython event is triggered only after the cells have been serialised, which for\n",
       "    // our purposes (turning an active figure into a static one), is too late.\n",
       "    var cells = IPython.notebook.get_cells();\n",
       "    var ncells = cells.length;\n",
       "    for (var i=0; i<ncells; i++) {\n",
       "        var cell = cells[i];\n",
       "        if (cell.cell_type === 'code'){\n",
       "            for (var j=0; j<cell.output_area.outputs.length; j++) {\n",
       "                var data = cell.output_area.outputs[j];\n",
       "                if (data.data) {\n",
       "                    // IPython >= 3 moved mimebundle to data attribute of output\n",
       "                    data = data.data;\n",
       "                }\n",
       "                if (data['text/html'] == html_output) {\n",
       "                    return [cell, data, j];\n",
       "                }\n",
       "            }\n",
       "        }\n",
       "    }\n",
       "}\n",
       "\n",
       "// Register the function which deals with the matplotlib target/channel.\n",
       "// The kernel may be null if the page has been refreshed.\n",
       "if (IPython.notebook.kernel != null) {\n",
       "    IPython.notebook.kernel.comm_manager.register_target('matplotlib', mpl.mpl_figure_comm);\n",
       "}\n"
      ],
      "text/plain": [
       "<IPython.core.display.Javascript object>"
      ]
     },
     "metadata": {},
     "output_type": "display_data"
    },
    {
     "data": {
      "text/html": [
       "<img src=\"data:image/png;base64,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\" width=\"899.8000000000001\">"
      ],
      "text/plain": [
       "<IPython.core.display.HTML object>"
      ]
     },
     "metadata": {},
     "output_type": "display_data"
    }
   ],
   "source": [
    "sortedDS=DS.sort_values(by=['IR'])\n",
    "names = sortedDS.iloc[:-1]['dataset']\n",
    "values = sortedDS.iloc[:-1]['IR']\n",
    "\n",
    "plt.figure(figsize=(9, 10))\n",
    "\n",
    "plt.bar(names, values)\n",
    "plt.suptitle('Categorical Plotting')\n",
    "plt.xticks(rotation=45)\n",
    "plt.show()"
   ]
  },
  {
   "cell_type": "code",
   "execution_count": 77,
   "metadata": {},
   "outputs": [
    {
     "data": {
      "application/vnd.plotly.v1+json": {
       "config": {
        "plotlyServerURL": "https://plot.ly"
       },
       "data": [
        {
         "hoverlabel": {
          "namelength": 0
         },
         "hovertemplate": "size=%{x}<br>IR=%{y}<br>dataset=%{text}<br>pos_part=%{marker.color}",
         "legendgroup": "",
         "marker": {
          "color": [
           9.73,
           10.23,
           0.62,
           1.39,
           13.6,
           14.29,
           3.31,
           0,
           0,
           30,
           23.52,
           34.9,
           46.08,
           37.5,
           6.67,
           35.9,
           32.71,
           33.15,
           22.73
          ],
          "coloraxis": "coloraxis",
          "symbol": "circle"
         },
         "mode": "markers+text",
         "name": "",
         "showlegend": false,
         "text": [
          "satimage",
          "pageblocks",
          "abalone20",
          "abalone17",
          "abalone8",
          "segmentation",
          "wine4",
          "yeast6",
          "yeast3",
          "german",
          "vehicle",
          "pima",
          "balance",
          "autompg",
          "libras",
          "iono",
          "glass",
          "wine",
          "hayes"
         ],
         "textposition": "top center",
         "type": "scatter",
         "x": [
          6435,
          5473,
          4177,
          4177,
          4177,
          2310,
          1599,
          1484,
          1484,
          1000,
          846,
          768,
          625,
          392,
          360,
          351,
          214,
          178,
          132
         ],
         "xaxis": "x",
         "y": [
          9.28,
          8.77,
          160.29,
          70.94,
          6.35,
          6,
          29.21,
          0,
          0,
          2.33,
          3.25,
          1.87,
          1.17,
          1.67,
          13.99,
          1.79,
          2.06,
          2.02,
          3.4
         ],
         "yaxis": "y"
        }
       ],
       "layout": {
        "coloraxis": {
         "colorbar": {
          "title": {
           "text": "pos_part"
          }
         },
         "colorscale": [
          [
           0,
           "#0d0887"
          ],
          [
           0.1111111111111111,
           "#46039f"
          ],
          [
           0.2222222222222222,
           "#7201a8"
          ],
          [
           0.3333333333333333,
           "#9c179e"
          ],
          [
           0.4444444444444444,
           "#bd3786"
          ],
          [
           0.5555555555555556,
           "#d8576b"
          ],
          [
           0.6666666666666666,
           "#ed7953"
          ],
          [
           0.7777777777777778,
           "#fb9f3a"
          ],
          [
           0.8888888888888888,
           "#fdca26"
          ],
          [
           1,
           "#f0f921"
          ]
         ]
        },
        "height": 600,
        "legend": {
         "tracegroupgap": 0
        },
        "margin": {
         "t": 60
        },
        "template": {
         "data": {
          "bar": [
           {
            "error_x": {
             "color": "#2a3f5f"
            },
            "error_y": {
             "color": "#2a3f5f"
            },
            "marker": {
             "line": {
              "color": "#E5ECF6",
              "width": 0.5
             }
            },
            "type": "bar"
           }
          ],
          "barpolar": [
           {
            "marker": {
             "line": {
              "color": "#E5ECF6",
              "width": 0.5
             }
            },
            "type": "barpolar"
           }
          ],
          "carpet": [
           {
            "aaxis": {
             "endlinecolor": "#2a3f5f",
             "gridcolor": "white",
             "linecolor": "white",
             "minorgridcolor": "white",
             "startlinecolor": "#2a3f5f"
            },
            "baxis": {
             "endlinecolor": "#2a3f5f",
             "gridcolor": "white",
             "linecolor": "white",
             "minorgridcolor": "white",
             "startlinecolor": "#2a3f5f"
            },
            "type": "carpet"
           }
          ],
          "choropleth": [
           {
            "colorbar": {
             "outlinewidth": 0,
             "ticks": ""
            },
            "type": "choropleth"
           }
          ],
          "contour": [
           {
            "colorbar": {
             "outlinewidth": 0,
             "ticks": ""
            },
            "colorscale": [
             [
              0,
              "#0d0887"
             ],
             [
              0.1111111111111111,
              "#46039f"
             ],
             [
              0.2222222222222222,
              "#7201a8"
             ],
             [
              0.3333333333333333,
              "#9c179e"
             ],
             [
              0.4444444444444444,
              "#bd3786"
             ],
             [
              0.5555555555555556,
              "#d8576b"
             ],
             [
              0.6666666666666666,
              "#ed7953"
             ],
             [
              0.7777777777777778,
              "#fb9f3a"
             ],
             [
              0.8888888888888888,
              "#fdca26"
             ],
             [
              1,
              "#f0f921"
             ]
            ],
            "type": "contour"
           }
          ],
          "contourcarpet": [
           {
            "colorbar": {
             "outlinewidth": 0,
             "ticks": ""
            },
            "type": "contourcarpet"
           }
          ],
          "heatmap": [
           {
            "colorbar": {
             "outlinewidth": 0,
             "ticks": ""
            },
            "colorscale": [
             [
              0,
              "#0d0887"
             ],
             [
              0.1111111111111111,
              "#46039f"
             ],
             [
              0.2222222222222222,
              "#7201a8"
             ],
             [
              0.3333333333333333,
              "#9c179e"
             ],
             [
              0.4444444444444444,
              "#bd3786"
             ],
             [
              0.5555555555555556,
              "#d8576b"
             ],
             [
              0.6666666666666666,
              "#ed7953"
             ],
             [
              0.7777777777777778,
              "#fb9f3a"
             ],
             [
              0.8888888888888888,
              "#fdca26"
             ],
             [
              1,
              "#f0f921"
             ]
            ],
            "type": "heatmap"
           }
          ],
          "heatmapgl": [
           {
            "colorbar": {
             "outlinewidth": 0,
             "ticks": ""
            },
            "colorscale": [
             [
              0,
              "#0d0887"
             ],
             [
              0.1111111111111111,
              "#46039f"
             ],
             [
              0.2222222222222222,
              "#7201a8"
             ],
             [
              0.3333333333333333,
              "#9c179e"
             ],
             [
              0.4444444444444444,
              "#bd3786"
             ],
             [
              0.5555555555555556,
              "#d8576b"
             ],
             [
              0.6666666666666666,
              "#ed7953"
             ],
             [
              0.7777777777777778,
              "#fb9f3a"
             ],
             [
              0.8888888888888888,
              "#fdca26"
             ],
             [
              1,
              "#f0f921"
             ]
            ],
            "type": "heatmapgl"
           }
          ],
          "histogram": [
           {
            "marker": {
             "colorbar": {
              "outlinewidth": 0,
              "ticks": ""
             }
            },
            "type": "histogram"
           }
          ],
          "histogram2d": [
           {
            "colorbar": {
             "outlinewidth": 0,
             "ticks": ""
            },
            "colorscale": [
             [
              0,
              "#0d0887"
             ],
             [
              0.1111111111111111,
              "#46039f"
             ],
             [
              0.2222222222222222,
              "#7201a8"
             ],
             [
              0.3333333333333333,
              "#9c179e"
             ],
             [
              0.4444444444444444,
              "#bd3786"
             ],
             [
              0.5555555555555556,
              "#d8576b"
             ],
             [
              0.6666666666666666,
              "#ed7953"
             ],
             [
              0.7777777777777778,
              "#fb9f3a"
             ],
             [
              0.8888888888888888,
              "#fdca26"
             ],
             [
              1,
              "#f0f921"
             ]
            ],
            "type": "histogram2d"
           }
          ],
          "histogram2dcontour": [
           {
            "colorbar": {
             "outlinewidth": 0,
             "ticks": ""
            },
            "colorscale": [
             [
              0,
              "#0d0887"
             ],
             [
              0.1111111111111111,
              "#46039f"
             ],
             [
              0.2222222222222222,
              "#7201a8"
             ],
             [
              0.3333333333333333,
              "#9c179e"
             ],
             [
              0.4444444444444444,
              "#bd3786"
             ],
             [
              0.5555555555555556,
              "#d8576b"
             ],
             [
              0.6666666666666666,
              "#ed7953"
             ],
             [
              0.7777777777777778,
              "#fb9f3a"
             ],
             [
              0.8888888888888888,
              "#fdca26"
             ],
             [
              1,
              "#f0f921"
             ]
            ],
            "type": "histogram2dcontour"
           }
          ],
          "mesh3d": [
           {
            "colorbar": {
             "outlinewidth": 0,
             "ticks": ""
            },
            "type": "mesh3d"
           }
          ],
          "parcoords": [
           {
            "line": {
             "colorbar": {
              "outlinewidth": 0,
              "ticks": ""
             }
            },
            "type": "parcoords"
           }
          ],
          "pie": [
           {
            "automargin": true,
            "type": "pie"
           }
          ],
          "scatter": [
           {
            "marker": {
             "colorbar": {
              "outlinewidth": 0,
              "ticks": ""
             }
            },
            "type": "scatter"
           }
          ],
          "scatter3d": [
           {
            "line": {
             "colorbar": {
              "outlinewidth": 0,
              "ticks": ""
             }
            },
            "marker": {
             "colorbar": {
              "outlinewidth": 0,
              "ticks": ""
             }
            },
            "type": "scatter3d"
           }
          ],
          "scattercarpet": [
           {
            "marker": {
             "colorbar": {
              "outlinewidth": 0,
              "ticks": ""
             }
            },
            "type": "scattercarpet"
           }
          ],
          "scattergeo": [
           {
            "marker": {
             "colorbar": {
              "outlinewidth": 0,
              "ticks": ""
             }
            },
            "type": "scattergeo"
           }
          ],
          "scattergl": [
           {
            "marker": {
             "colorbar": {
              "outlinewidth": 0,
              "ticks": ""
             }
            },
            "type": "scattergl"
           }
          ],
          "scattermapbox": [
           {
            "marker": {
             "colorbar": {
              "outlinewidth": 0,
              "ticks": ""
             }
            },
            "type": "scattermapbox"
           }
          ],
          "scatterpolar": [
           {
            "marker": {
             "colorbar": {
              "outlinewidth": 0,
              "ticks": ""
             }
            },
            "type": "scatterpolar"
           }
          ],
          "scatterpolargl": [
           {
            "marker": {
             "colorbar": {
              "outlinewidth": 0,
              "ticks": ""
             }
            },
            "type": "scatterpolargl"
           }
          ],
          "scatterternary": [
           {
            "marker": {
             "colorbar": {
              "outlinewidth": 0,
              "ticks": ""
             }
            },
            "type": "scatterternary"
           }
          ],
          "surface": [
           {
            "colorbar": {
             "outlinewidth": 0,
             "ticks": ""
            },
            "colorscale": [
             [
              0,
              "#0d0887"
             ],
             [
              0.1111111111111111,
              "#46039f"
             ],
             [
              0.2222222222222222,
              "#7201a8"
             ],
             [
              0.3333333333333333,
              "#9c179e"
             ],
             [
              0.4444444444444444,
              "#bd3786"
             ],
             [
              0.5555555555555556,
              "#d8576b"
             ],
             [
              0.6666666666666666,
              "#ed7953"
             ],
             [
              0.7777777777777778,
              "#fb9f3a"
             ],
             [
              0.8888888888888888,
              "#fdca26"
             ],
             [
              1,
              "#f0f921"
             ]
            ],
            "type": "surface"
           }
          ],
          "table": [
           {
            "cells": {
             "fill": {
              "color": "#EBF0F8"
             },
             "line": {
              "color": "white"
             }
            },
            "header": {
             "fill": {
              "color": "#C8D4E3"
             },
             "line": {
              "color": "white"
             }
            },
            "type": "table"
           }
          ]
         },
         "layout": {
          "annotationdefaults": {
           "arrowcolor": "#2a3f5f",
           "arrowhead": 0,
           "arrowwidth": 1
          },
          "coloraxis": {
           "colorbar": {
            "outlinewidth": 0,
            "ticks": ""
           }
          },
          "colorscale": {
           "diverging": [
            [
             0,
             "#8e0152"
            ],
            [
             0.1,
             "#c51b7d"
            ],
            [
             0.2,
             "#de77ae"
            ],
            [
             0.3,
             "#f1b6da"
            ],
            [
             0.4,
             "#fde0ef"
            ],
            [
             0.5,
             "#f7f7f7"
            ],
            [
             0.6,
             "#e6f5d0"
            ],
            [
             0.7,
             "#b8e186"
            ],
            [
             0.8,
             "#7fbc41"
            ],
            [
             0.9,
             "#4d9221"
            ],
            [
             1,
             "#276419"
            ]
           ],
           "sequential": [
            [
             0,
             "#0d0887"
            ],
            [
             0.1111111111111111,
             "#46039f"
            ],
            [
             0.2222222222222222,
             "#7201a8"
            ],
            [
             0.3333333333333333,
             "#9c179e"
            ],
            [
             0.4444444444444444,
             "#bd3786"
            ],
            [
             0.5555555555555556,
             "#d8576b"
            ],
            [
             0.6666666666666666,
             "#ed7953"
            ],
            [
             0.7777777777777778,
             "#fb9f3a"
            ],
            [
             0.8888888888888888,
             "#fdca26"
            ],
            [
             1,
             "#f0f921"
            ]
           ],
           "sequentialminus": [
            [
             0,
             "#0d0887"
            ],
            [
             0.1111111111111111,
             "#46039f"
            ],
            [
             0.2222222222222222,
             "#7201a8"
            ],
            [
             0.3333333333333333,
             "#9c179e"
            ],
            [
             0.4444444444444444,
             "#bd3786"
            ],
            [
             0.5555555555555556,
             "#d8576b"
            ],
            [
             0.6666666666666666,
             "#ed7953"
            ],
            [
             0.7777777777777778,
             "#fb9f3a"
            ],
            [
             0.8888888888888888,
             "#fdca26"
            ],
            [
             1,
             "#f0f921"
            ]
           ]
          },
          "colorway": [
           "#636efa",
           "#EF553B",
           "#00cc96",
           "#ab63fa",
           "#FFA15A",
           "#19d3f3",
           "#FF6692",
           "#B6E880",
           "#FF97FF",
           "#FECB52"
          ],
          "font": {
           "color": "#2a3f5f"
          },
          "geo": {
           "bgcolor": "white",
           "lakecolor": "white",
           "landcolor": "#E5ECF6",
           "showlakes": true,
           "showland": true,
           "subunitcolor": "white"
          },
          "hoverlabel": {
           "align": "left"
          },
          "hovermode": "closest",
          "mapbox": {
           "style": "light"
          },
          "paper_bgcolor": "white",
          "plot_bgcolor": "#E5ECF6",
          "polar": {
           "angularaxis": {
            "gridcolor": "white",
            "linecolor": "white",
            "ticks": ""
           },
           "bgcolor": "#E5ECF6",
           "radialaxis": {
            "gridcolor": "white",
            "linecolor": "white",
            "ticks": ""
           }
          },
          "scene": {
           "xaxis": {
            "backgroundcolor": "#E5ECF6",
            "gridcolor": "white",
            "gridwidth": 2,
            "linecolor": "white",
            "showbackground": true,
            "ticks": "",
            "zerolinecolor": "white"
           },
           "yaxis": {
            "backgroundcolor": "#E5ECF6",
            "gridcolor": "white",
            "gridwidth": 2,
            "linecolor": "white",
            "showbackground": true,
            "ticks": "",
            "zerolinecolor": "white"
           },
           "zaxis": {
            "backgroundcolor": "#E5ECF6",
            "gridcolor": "white",
            "gridwidth": 2,
            "linecolor": "white",
            "showbackground": true,
            "ticks": "",
            "zerolinecolor": "white"
           }
          },
          "shapedefaults": {
           "line": {
            "color": "#2a3f5f"
           }
          },
          "ternary": {
           "aaxis": {
            "gridcolor": "white",
            "linecolor": "white",
            "ticks": ""
           },
           "baxis": {
            "gridcolor": "white",
            "linecolor": "white",
            "ticks": ""
           },
           "bgcolor": "#E5ECF6",
           "caxis": {
            "gridcolor": "white",
            "linecolor": "white",
            "ticks": ""
           }
          },
          "title": {
           "x": 0.05
          },
          "xaxis": {
           "automargin": true,
           "gridcolor": "white",
           "linecolor": "white",
           "ticks": "",
           "title": {
            "standoff": 15
           },
           "zerolinecolor": "white",
           "zerolinewidth": 2
          },
          "yaxis": {
           "automargin": true,
           "gridcolor": "white",
           "linecolor": "white",
           "ticks": "",
           "title": {
            "standoff": 15
           },
           "zerolinecolor": "white",
           "zerolinewidth": 2
          }
         }
        },
        "title": {
         "text": "Positive part, size and ",
         "x": 0.5
        },
        "xaxis": {
         "anchor": "y",
         "domain": [
          0,
          1
         ],
         "title": {
          "text": "size"
         }
        },
        "yaxis": {
         "anchor": "x",
         "domain": [
          0,
          1
         ],
         "title": {
          "text": "IR"
         }
        }
       }
      },
      "text/html": [
       "<div>\n",
       "        \n",
       "        \n",
       "            <div id=\"d53e12b1-ad4b-454e-b7b2-674c97138e81\" class=\"plotly-graph-div\" style=\"height:600px; width:100%;\"></div>\n",
       "            <script type=\"text/javascript\">\n",
       "                require([\"plotly\"], function(Plotly) {\n",
       "                    window.PLOTLYENV=window.PLOTLYENV || {};\n",
       "                    \n",
       "                if (document.getElementById(\"d53e12b1-ad4b-454e-b7b2-674c97138e81\")) {\n",
       "                    Plotly.newPlot(\n",
       "                        'd53e12b1-ad4b-454e-b7b2-674c97138e81',\n",
       "                        [{\"hoverlabel\": {\"namelength\": 0}, \"hovertemplate\": \"size=%{x}<br>IR=%{y}<br>dataset=%{text}<br>pos_part=%{marker.color}\", \"legendgroup\": \"\", \"marker\": {\"color\": [9.73, 10.23, 0.62, 1.39, 13.6, 14.29, 3.31, 0.0, 0.0, 30.0, 23.52, 34.9, 46.08, 37.5, 6.67, 35.9, 32.71, 33.15, 22.73], \"coloraxis\": \"coloraxis\", \"symbol\": \"circle\"}, \"mode\": \"markers+text\", \"name\": \"\", \"showlegend\": false, \"text\": [\"satimage\", \"pageblocks\", \"abalone20\", \"abalone17\", \"abalone8\", \"segmentation\", \"wine4\", \"yeast6\", \"yeast3\", \"german\", \"vehicle\", \"pima\", \"balance\", \"autompg\", \"libras\", \"iono\", \"glass\", \"wine\", \"hayes\"], \"textposition\": \"top center\", \"type\": \"scatter\", \"x\": [6435, 5473, 4177, 4177, 4177, 2310, 1599, 1484, 1484, 1000, 846, 768, 625, 392, 360, 351, 214, 178, 132], \"xaxis\": \"x\", \"y\": [9.28, 8.77, 160.29, 70.94, 6.35, 6.0, 29.21, 0.0, 0.0, 2.33, 3.25, 1.87, 1.17, 1.67, 13.99, 1.79, 2.06, 2.02, 3.4], \"yaxis\": \"y\"}],\n",
       "                        {\"coloraxis\": {\"colorbar\": {\"title\": {\"text\": \"pos_part\"}}, \"colorscale\": [[0.0, \"#0d0887\"], [0.1111111111111111, \"#46039f\"], [0.2222222222222222, \"#7201a8\"], [0.3333333333333333, \"#9c179e\"], [0.4444444444444444, \"#bd3786\"], [0.5555555555555556, \"#d8576b\"], [0.6666666666666666, \"#ed7953\"], [0.7777777777777778, \"#fb9f3a\"], [0.8888888888888888, \"#fdca26\"], [1.0, \"#f0f921\"]]}, \"height\": 600, \"legend\": {\"tracegroupgap\": 0}, \"margin\": {\"t\": 60}, \"template\": {\"data\": {\"bar\": [{\"error_x\": {\"color\": \"#2a3f5f\"}, \"error_y\": {\"color\": \"#2a3f5f\"}, \"marker\": {\"line\": {\"color\": \"#E5ECF6\", \"width\": 0.5}}, \"type\": \"bar\"}], \"barpolar\": [{\"marker\": {\"line\": {\"color\": \"#E5ECF6\", \"width\": 0.5}}, \"type\": \"barpolar\"}], \"carpet\": [{\"aaxis\": {\"endlinecolor\": \"#2a3f5f\", \"gridcolor\": \"white\", \"linecolor\": \"white\", \"minorgridcolor\": \"white\", \"startlinecolor\": \"#2a3f5f\"}, \"baxis\": {\"endlinecolor\": \"#2a3f5f\", \"gridcolor\": \"white\", \"linecolor\": \"white\", \"minorgridcolor\": \"white\", \"startlinecolor\": \"#2a3f5f\"}, \"type\": \"carpet\"}], \"choropleth\": [{\"colorbar\": {\"outlinewidth\": 0, \"ticks\": \"\"}, \"type\": \"choropleth\"}], \"contour\": [{\"colorbar\": {\"outlinewidth\": 0, \"ticks\": \"\"}, \"colorscale\": [[0.0, \"#0d0887\"], [0.1111111111111111, \"#46039f\"], [0.2222222222222222, \"#7201a8\"], [0.3333333333333333, \"#9c179e\"], [0.4444444444444444, \"#bd3786\"], [0.5555555555555556, \"#d8576b\"], [0.6666666666666666, \"#ed7953\"], [0.7777777777777778, \"#fb9f3a\"], [0.8888888888888888, \"#fdca26\"], [1.0, \"#f0f921\"]], \"type\": \"contour\"}], \"contourcarpet\": [{\"colorbar\": {\"outlinewidth\": 0, \"ticks\": \"\"}, \"type\": \"contourcarpet\"}], \"heatmap\": [{\"colorbar\": {\"outlinewidth\": 0, \"ticks\": \"\"}, \"colorscale\": [[0.0, \"#0d0887\"], [0.1111111111111111, \"#46039f\"], [0.2222222222222222, \"#7201a8\"], [0.3333333333333333, \"#9c179e\"], [0.4444444444444444, \"#bd3786\"], [0.5555555555555556, \"#d8576b\"], [0.6666666666666666, \"#ed7953\"], [0.7777777777777778, \"#fb9f3a\"], [0.8888888888888888, \"#fdca26\"], [1.0, \"#f0f921\"]], \"type\": \"heatmap\"}], \"heatmapgl\": [{\"colorbar\": {\"outlinewidth\": 0, \"ticks\": \"\"}, \"colorscale\": [[0.0, \"#0d0887\"], [0.1111111111111111, \"#46039f\"], [0.2222222222222222, \"#7201a8\"], [0.3333333333333333, \"#9c179e\"], [0.4444444444444444, \"#bd3786\"], [0.5555555555555556, \"#d8576b\"], [0.6666666666666666, \"#ed7953\"], [0.7777777777777778, \"#fb9f3a\"], [0.8888888888888888, \"#fdca26\"], [1.0, \"#f0f921\"]], \"type\": \"heatmapgl\"}], \"histogram\": [{\"marker\": {\"colorbar\": {\"outlinewidth\": 0, \"ticks\": \"\"}}, \"type\": \"histogram\"}], \"histogram2d\": [{\"colorbar\": {\"outlinewidth\": 0, \"ticks\": \"\"}, \"colorscale\": [[0.0, \"#0d0887\"], [0.1111111111111111, \"#46039f\"], [0.2222222222222222, \"#7201a8\"], [0.3333333333333333, \"#9c179e\"], [0.4444444444444444, \"#bd3786\"], [0.5555555555555556, \"#d8576b\"], [0.6666666666666666, \"#ed7953\"], [0.7777777777777778, \"#fb9f3a\"], [0.8888888888888888, \"#fdca26\"], [1.0, \"#f0f921\"]], \"type\": \"histogram2d\"}], \"histogram2dcontour\": [{\"colorbar\": {\"outlinewidth\": 0, \"ticks\": \"\"}, \"colorscale\": [[0.0, \"#0d0887\"], [0.1111111111111111, \"#46039f\"], [0.2222222222222222, \"#7201a8\"], [0.3333333333333333, \"#9c179e\"], [0.4444444444444444, \"#bd3786\"], [0.5555555555555556, \"#d8576b\"], [0.6666666666666666, \"#ed7953\"], [0.7777777777777778, \"#fb9f3a\"], [0.8888888888888888, \"#fdca26\"], [1.0, \"#f0f921\"]], \"type\": \"histogram2dcontour\"}], \"mesh3d\": [{\"colorbar\": {\"outlinewidth\": 0, \"ticks\": \"\"}, \"type\": \"mesh3d\"}], \"parcoords\": [{\"line\": {\"colorbar\": {\"outlinewidth\": 0, \"ticks\": \"\"}}, \"type\": \"parcoords\"}], \"pie\": [{\"automargin\": true, \"type\": \"pie\"}], \"scatter\": [{\"marker\": {\"colorbar\": {\"outlinewidth\": 0, \"ticks\": \"\"}}, \"type\": \"scatter\"}], \"scatter3d\": [{\"line\": {\"colorbar\": {\"outlinewidth\": 0, \"ticks\": \"\"}}, \"marker\": {\"colorbar\": {\"outlinewidth\": 0, \"ticks\": \"\"}}, \"type\": \"scatter3d\"}], \"scattercarpet\": [{\"marker\": {\"colorbar\": {\"outlinewidth\": 0, \"ticks\": \"\"}}, \"type\": \"scattercarpet\"}], \"scattergeo\": [{\"marker\": {\"colorbar\": {\"outlinewidth\": 0, \"ticks\": \"\"}}, \"type\": \"scattergeo\"}], \"scattergl\": [{\"marker\": {\"colorbar\": {\"outlinewidth\": 0, \"ticks\": \"\"}}, \"type\": \"scattergl\"}], \"scattermapbox\": [{\"marker\": {\"colorbar\": {\"outlinewidth\": 0, \"ticks\": \"\"}}, \"type\": \"scattermapbox\"}], \"scatterpolar\": [{\"marker\": {\"colorbar\": {\"outlinewidth\": 0, \"ticks\": \"\"}}, \"type\": \"scatterpolar\"}], \"scatterpolargl\": [{\"marker\": {\"colorbar\": {\"outlinewidth\": 0, \"ticks\": \"\"}}, \"type\": \"scatterpolargl\"}], \"scatterternary\": [{\"marker\": {\"colorbar\": {\"outlinewidth\": 0, \"ticks\": \"\"}}, \"type\": \"scatterternary\"}], \"surface\": [{\"colorbar\": {\"outlinewidth\": 0, \"ticks\": \"\"}, \"colorscale\": [[0.0, \"#0d0887\"], [0.1111111111111111, \"#46039f\"], [0.2222222222222222, \"#7201a8\"], [0.3333333333333333, \"#9c179e\"], [0.4444444444444444, \"#bd3786\"], [0.5555555555555556, \"#d8576b\"], [0.6666666666666666, \"#ed7953\"], [0.7777777777777778, \"#fb9f3a\"], [0.8888888888888888, \"#fdca26\"], [1.0, \"#f0f921\"]], \"type\": \"surface\"}], \"table\": [{\"cells\": {\"fill\": {\"color\": \"#EBF0F8\"}, \"line\": {\"color\": \"white\"}}, \"header\": {\"fill\": {\"color\": \"#C8D4E3\"}, \"line\": {\"color\": \"white\"}}, \"type\": \"table\"}]}, \"layout\": {\"annotationdefaults\": {\"arrowcolor\": \"#2a3f5f\", \"arrowhead\": 0, \"arrowwidth\": 1}, \"coloraxis\": {\"colorbar\": {\"outlinewidth\": 0, \"ticks\": \"\"}}, \"colorscale\": {\"diverging\": [[0, \"#8e0152\"], [0.1, \"#c51b7d\"], [0.2, \"#de77ae\"], [0.3, \"#f1b6da\"], [0.4, \"#fde0ef\"], [0.5, \"#f7f7f7\"], [0.6, \"#e6f5d0\"], [0.7, \"#b8e186\"], [0.8, \"#7fbc41\"], [0.9, \"#4d9221\"], [1, \"#276419\"]], \"sequential\": [[0.0, \"#0d0887\"], [0.1111111111111111, \"#46039f\"], [0.2222222222222222, \"#7201a8\"], [0.3333333333333333, \"#9c179e\"], [0.4444444444444444, \"#bd3786\"], [0.5555555555555556, \"#d8576b\"], [0.6666666666666666, \"#ed7953\"], [0.7777777777777778, \"#fb9f3a\"], [0.8888888888888888, \"#fdca26\"], [1.0, \"#f0f921\"]], \"sequentialminus\": [[0.0, \"#0d0887\"], [0.1111111111111111, \"#46039f\"], [0.2222222222222222, \"#7201a8\"], [0.3333333333333333, \"#9c179e\"], [0.4444444444444444, \"#bd3786\"], [0.5555555555555556, \"#d8576b\"], [0.6666666666666666, \"#ed7953\"], [0.7777777777777778, \"#fb9f3a\"], [0.8888888888888888, \"#fdca26\"], [1.0, \"#f0f921\"]]}, \"colorway\": [\"#636efa\", \"#EF553B\", \"#00cc96\", \"#ab63fa\", \"#FFA15A\", \"#19d3f3\", \"#FF6692\", \"#B6E880\", \"#FF97FF\", \"#FECB52\"], \"font\": {\"color\": \"#2a3f5f\"}, \"geo\": {\"bgcolor\": \"white\", \"lakecolor\": \"white\", \"landcolor\": \"#E5ECF6\", \"showlakes\": true, \"showland\": true, \"subunitcolor\": \"white\"}, \"hoverlabel\": {\"align\": \"left\"}, \"hovermode\": \"closest\", \"mapbox\": {\"style\": \"light\"}, \"paper_bgcolor\": \"white\", \"plot_bgcolor\": \"#E5ECF6\", \"polar\": {\"angularaxis\": {\"gridcolor\": \"white\", \"linecolor\": \"white\", \"ticks\": \"\"}, \"bgcolor\": \"#E5ECF6\", \"radialaxis\": {\"gridcolor\": \"white\", \"linecolor\": \"white\", \"ticks\": \"\"}}, \"scene\": {\"xaxis\": {\"backgroundcolor\": \"#E5ECF6\", \"gridcolor\": \"white\", \"gridwidth\": 2, \"linecolor\": \"white\", \"showbackground\": true, \"ticks\": \"\", \"zerolinecolor\": \"white\"}, \"yaxis\": {\"backgroundcolor\": \"#E5ECF6\", \"gridcolor\": \"white\", \"gridwidth\": 2, \"linecolor\": \"white\", \"showbackground\": true, \"ticks\": \"\", \"zerolinecolor\": \"white\"}, \"zaxis\": {\"backgroundcolor\": \"#E5ECF6\", \"gridcolor\": \"white\", \"gridwidth\": 2, \"linecolor\": \"white\", \"showbackground\": true, \"ticks\": \"\", \"zerolinecolor\": \"white\"}}, \"shapedefaults\": {\"line\": {\"color\": \"#2a3f5f\"}}, \"ternary\": {\"aaxis\": {\"gridcolor\": \"white\", \"linecolor\": \"white\", \"ticks\": \"\"}, \"baxis\": {\"gridcolor\": \"white\", \"linecolor\": \"white\", \"ticks\": \"\"}, \"bgcolor\": \"#E5ECF6\", \"caxis\": {\"gridcolor\": \"white\", \"linecolor\": \"white\", \"ticks\": \"\"}}, \"title\": {\"x\": 0.05}, \"xaxis\": {\"automargin\": true, \"gridcolor\": \"white\", \"linecolor\": \"white\", \"ticks\": \"\", \"title\": {\"standoff\": 15}, \"zerolinecolor\": \"white\", \"zerolinewidth\": 2}, \"yaxis\": {\"automargin\": true, \"gridcolor\": \"white\", \"linecolor\": \"white\", \"ticks\": \"\", \"title\": {\"standoff\": 15}, \"zerolinecolor\": \"white\", \"zerolinewidth\": 2}}}, \"title\": {\"text\": \"Positive part, size and \", \"x\": 0.5}, \"xaxis\": {\"anchor\": \"y\", \"domain\": [0.0, 1.0], \"title\": {\"text\": \"size\"}}, \"yaxis\": {\"anchor\": \"x\", \"domain\": [0.0, 1.0], \"title\": {\"text\": \"IR\"}}},\n",
       "                        {\"responsive\": true}\n",
       "                    ).then(function(){\n",
       "                            \n",
       "var gd = document.getElementById('d53e12b1-ad4b-454e-b7b2-674c97138e81');\n",
       "var x = new MutationObserver(function (mutations, observer) {{\n",
       "        var display = window.getComputedStyle(gd).display;\n",
       "        if (!display || display === 'none') {{\n",
       "            console.log([gd, 'removed!']);\n",
       "            Plotly.purge(gd);\n",
       "            observer.disconnect();\n",
       "        }}\n",
       "}});\n",
       "\n",
       "// Listen for the removal of the full notebook cells\n",
       "var notebookContainer = gd.closest('#notebook-container');\n",
       "if (notebookContainer) {{\n",
       "    x.observe(notebookContainer, {childList: true});\n",
       "}}\n",
       "\n",
       "// Listen for the clearing of the current output cell\n",
       "var outputEl = gd.closest('.output');\n",
       "if (outputEl) {{\n",
       "    x.observe(outputEl, {childList: true});\n",
       "}}\n",
       "\n",
       "                        })\n",
       "                };\n",
       "                });\n",
       "            </script>\n",
       "        </div>"
      ]
     },
     "metadata": {},
     "output_type": "display_data"
    }
   ],
   "source": [
    "import plotly.express as px\n",
    "\n",
    "\n",
    "\n",
    "fig = px.scatter(DS, x=\"size\", y=\"IR\", text=\"dataset\", log_x=False, size_max=100, color=\"pos_part\")\n",
    "fig.update_traces(textposition='top center')\n",
    "fig.update_layout(title_text='Positive part, size and ', title_x=0.5)\n",
    "fig.show()\n"
   ]
  },
  {
   "cell_type": "code",
   "execution_count": 157,
   "metadata": {},
   "outputs": [
    {
     "name": "stdout",
     "output_type": "stream",
     "text": [
      "Counter({0: 9900, 1: 100})\n"
     ]
    }
   ],
   "source": [
    "# Oversample and plot imbalanced dataset with SMOTE\n",
    "from collections import Counter\n",
    "from sklearn.datasets import make_classification\n",
    "from imblearn.over_sampling import SMOTE\n",
    "from matplotlib import pyplot\n",
    "from numpy import where\n",
    "# define dataset\n",
    "X, y = make_classification(n_samples=10000, n_features=2, n_redundant=0,\n",
    "\tn_clusters_per_class=1, weights=[0.99], flip_y=0, random_state=1)\n",
    "# summarize class distribution\n",
    "counter = Counter(y)\n",
    "print(counter)\n",
    "# scatter plot of examples by class label\n"
   ]
  },
  {
   "cell_type": "code",
   "execution_count": 158,
   "metadata": {},
   "outputs": [],
   "source": [
    "for label, _ in counter.items():\n",
    "    row_ix = where(y == label)[0]\n",
    "    pyplot.scatter(X[row_ix, 0], X[row_ix, 1], label=str(label))\n",
    "pyplot.legend()\n",
    "pyplot.show()"
   ]
  },
  {
   "cell_type": "code",
   "execution_count": 149,
   "metadata": {},
   "outputs": [
    {
     "name": "stdout",
     "output_type": "stream",
     "text": [
      "2\n",
      "18\n",
      "500\n"
     ]
    }
   ],
   "source": [
    "test_data=generate_data()\n",
    "print(len(test_data))\n",
    "print(len(test_data[0]))\n",
    "print(len(test_data[1]))"
   ]
  },
  {
   "cell_type": "code",
   "execution_count": 103,
   "metadata": {},
   "outputs": [
    {
     "data": {
      "text/plain": [
       "array([-0.03505228, -1.36419487, -0.58471063,  0.62736685, -0.31603575,\n",
       "        2.10947441,  1.01546624,  0.48409166, -0.44020808,  0.09109267,\n",
       "       -2.28456197,  0.13381742, -0.94242572,  0.22799359, -1.75323337,\n",
       "        0.50359813, -0.10941285,  1.46735365,  0.13071897, -0.10599605])"
      ]
     },
     "execution_count": 103,
     "metadata": {},
     "output_type": "execute_result"
    }
   ],
   "source": [
    "test_data[0][0]"
   ]
  }
 ],
 "metadata": {
  "kernelspec": {
   "display_name": "Python 3",
   "language": "python",
   "name": "python3"
  },
  "language_info": {
   "codemirror_mode": {
    "name": "ipython",
    "version": 3
   },
   "file_extension": ".py",
   "mimetype": "text/x-python",
   "name": "python",
   "nbconvert_exporter": "python",
   "pygments_lexer": "ipython3",
   "version": "3.7.0"
  }
 },
 "nbformat": 4,
 "nbformat_minor": 4
}
