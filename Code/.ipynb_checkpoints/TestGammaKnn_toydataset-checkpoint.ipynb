{
 "cells": [
  {
   "cell_type": "markdown",
   "metadata": {},
   "source": [
    "### Generate toy imbalanced dataset"
   ]
  },
  {
   "cell_type": "code",
   "execution_count": 1,
   "metadata": {},
   "outputs": [],
   "source": [
    "from collections import Counter\n",
    "from sklearn.datasets import make_classification\n",
    "from matplotlib import pyplot\n",
    "from numpy import where\n",
    "import matplotlib.pyplot as plt"
   ]
  },
  {
   "cell_type": "code",
   "execution_count": 12,
   "metadata": {},
   "outputs": [
    {
     "name": "stdout",
     "output_type": "stream",
     "text": [
      "Counter({0: 4950, 1: 50})\n"
     ]
    }
   ],
   "source": [
    "# define dataset\n",
    "X, y = make_classification(n_samples=5000, n_features=2, n_redundant=0,\n",
    "\tn_clusters_per_class=1, weights=[0.99], flip_y=0)\n",
    "\n",
    "# summarize class distribution\n",
    "counter = Counter(y)\n",
    "print(counter)\n",
    "# scatter plot of examples by class label\n"
   ]
  },
  {
   "cell_type": "code",
   "execution_count": 13,
   "metadata": {},
   "outputs": [
    {
     "data": {
      "image/png": "[encoded data removed]",
      "text/plain": [
       "<Figure size 360x360 with 1 Axes>"
      ]
     },
     "metadata": {
      "needs_background": "light"
     },
     "output_type": "display_data"
    }
   ],
   "source": [
    "\n",
    "plt.figure(figsize=(5, 5))\n",
    "for label, _ in counter.items():\n",
    "    row_ix = where(y == label)[0]\n",
    "    plt.scatter(X[row_ix, 0], X[row_ix, 1])\n",
    "plt.show() "
   ]
  },
  {
   "cell_type": "code",
   "execution_count": 14,
   "metadata": {},
   "outputs": [
    {
     "name": "stdout",
     "output_type": "stream",
     "text": [
      "INIT Knn simple\n",
      "INIT Knn simple\n",
      "INIT\n",
      "FIT\n",
      "finish\n",
      "predict\n",
      "INIT\n",
      "FIT\n",
      "finish\n",
      "predict\n",
      "INIT\n",
      "FIT\n",
      "finish\n",
      "predict\n",
      "INIT\n",
      "FIT\n",
      "finish\n",
      "predict\n",
      "INIT\n",
      "FIT\n",
      "finish\n",
      "predict\n",
      "INIT\n",
      "FIT\n",
      "finish\n",
      "predict\n",
      "INIT\n",
      "FIT\n",
      "finish\n",
      "predict\n",
      "INIT\n",
      "FIT\n",
      "finish\n",
      "predict\n",
      "INIT\n",
      "FIT\n",
      "finish\n",
      "predict\n",
      "INIT\n",
      "FIT\n",
      "finish\n",
      "predict\n",
      "INIT\n",
      "FIT\n",
      "finish\n",
      "predict\n",
      "INIT\n",
      "FIT\n",
      "finish\n",
      "predict\n",
      "INIT\n",
      "FIT\n",
      "finish\n",
      "predict\n",
      "INIT\n",
      "FIT\n",
      "finish\n",
      "predict\n",
      "INIT\n",
      "FIT\n",
      "finish\n",
      "predict\n",
      "INIT\n",
      "FIT\n",
      "finish\n",
      "predict\n",
      "INIT\n",
      "FIT\n",
      "finish\n",
      "predict\n",
      "INIT\n",
      "FIT\n",
      "finish\n",
      "predict\n",
      "INIT\n",
      "FIT\n",
      "finish\n",
      "predict\n",
      "INIT\n",
      "FIT\n",
      "finish\n",
      "predict\n",
      "INIT\n",
      "FIT\n",
      "finish\n",
      "predict\n"
     ]
    }
   ],
   "source": [
    "import numpy as np\n",
    "from models_perso import GammaKnn, SimpleKnn, wKnn\n",
    "from sklearn.metrics import confusion_matrix\n",
    "from sklearn.model_selection import train_test_split\n",
    "\n",
    "X_train, X_test, y_train, y_test = train_test_split(X, y, test_size=0.2)\n",
    "beta =1\n",
    "\n",
    "knn = SimpleKnn(nb_nn=3)\n",
    "knn.fit(X_train, y_train,None)\n",
    "pred = knn.predict(X_test)\n",
    "\n",
    "TN, FP, FN, TP = confusion_matrix(y_test, pred).ravel()\n",
    "f_measure = (1+beta**2)*TP / ((1+beta**2)*TP+(beta**2)*FN+FP)\n",
    "knn_F=round(f_measure, 3)\n",
    "\n",
    "wknn = wKnn(nb_nn=3)\n",
    "wknn.fit(X_train, y_train,None)\n",
    "pred = wknn.predict(X_test)\n",
    "\n",
    "TN, FP, FN, TP = confusion_matrix(y_test, pred).ravel()\n",
    "f_measure = (1+beta**2)*TP / ((1+beta**2)*TP+(beta**2)*FN+FP)\n",
    "wknn_F=round(f_measure, 3)\n",
    "\n",
    "\n",
    "results=[]\n",
    "\n",
    "gamma_list=np.arange(0, 2.1, 0.1)\n",
    "for gamma in gamma_list:\n",
    "    X_train, X_test, y_train, y_test = train_test_split(X, y, test_size=0.2,random_state=123)\n",
    "    gammaKnn = GammaKnn(nb_nn=3, gamma=gamma)\n",
    "    gammaKnn.fit(X_train, y_train)\n",
    "\n",
    "    pred = gammaKnn.predict(X_test)\n",
    "    TN, FP, FN, TP = confusion_matrix(y_test, pred).ravel()\n",
    "\n",
    "    f_measure = (1+beta**2)*TP / ((1+beta**2)*TP+(beta**2)*FN+FP)\n",
    "    results.append({\"gamma\":round(gamma,2),\"F\":round(f_measure, 3),\"TN\":TN,\"FP\":FP,\"FN\":FN,\"TP\":TP})"
   ]
  },
  {
   "cell_type": "code",
   "execution_count": 8,
   "metadata": {},
   "outputs": [
    {
     "name": "stdout",
     "output_type": "stream",
     "text": [
      "    gamma      F   TN   FP  FN  TP\n",
      "0     0.0  0.022    0  989   0  11\n",
      "1     0.1  0.393  955   34   0  11\n",
      "2     0.2  0.629  976   13   0  11\n",
      "3     0.3  0.786  983    6   0  11\n",
      "4     0.4  0.846  985    4   0  11\n",
      "5     0.5  0.917  987    2   0  11\n",
      "6     0.6  0.957  988    1   0  11\n",
      "7     0.7  0.957  988    1   0  11\n",
      "8     0.8  0.957  988    1   0  11\n",
      "9     0.9  0.957  988    1   0  11\n",
      "10    1.0  0.957  988    1   0  11\n",
      "11    1.1  0.957  988    1   0  11\n",
      "12    1.2  0.957  988    1   0  11\n",
      "13    1.3  0.952  989    0   1  10\n",
      "14    1.4  0.900  989    0   2   9\n",
      "15    1.5  0.900  989    0   2   9\n",
      "16    1.6  0.900  989    0   2   9\n",
      "17    1.7  0.900  989    0   2   9\n",
      "18    1.8  0.900  989    0   2   9\n",
      "19    1.9  0.900  989    0   2   9\n",
      "20    2.0  0.900  989    0   2   9\n"
     ]
    }
   ],
   "source": [
    "import pandas as pd \n",
    "\n",
    "DS=pd.DataFrame(results)\n",
    "print(DS)"
   ]
  },
  {
   "cell_type": "code",
   "execution_count": 17,
   "metadata": {},
   "outputs": [
    {
     "data": {
      "image/png": "[encoded data removed]",
      "text/plain": [
       "<Figure size 360x360 with 1 Axes>"
      ]
     },
     "metadata": {
      "needs_background": "light"
     },
     "output_type": "display_data"
    }
   ],
   "source": [
    "import matplotlib.lines as lines\n",
    "plt.figure(figsize=(5, 5))\n",
    "plt.scatter(DS['gamma'], DS['F'])\n",
    "plt.axhline(y=knn_F, color='r', linestyle='-')\n",
    "plt.axhline(y=wknn_F, color='g', linestyle='-')\n",
    "\n",
    "plt.show() "
   ]
  },
  {
   "cell_type": "code",
   "execution_count": 15,
   "metadata": {},
   "outputs": [
    {
     "data": {
      "text/plain": [
       "0.875"
      ]
     },
     "execution_count": 15,
     "metadata": {},
     "output_type": "execute_result"
    }
   ],
   "source": [
    "knn_F"
   ]
  },
  {
   "cell_type": "code",
   "execution_count": 16,
   "metadata": {},
   "outputs": [
    {
     "data": {
      "text/plain": [
       "0.8"
      ]
     },
     "execution_count": 16,
     "metadata": {},
     "output_type": "execute_result"
    }
   ],
   "source": [
    "wknn_F"
   ]
  },
  {
   "cell_type": "markdown",
   "metadata": {},
   "source": [
    "## WITH OS"
   ]
  },
  {
   "cell_type": "code",
   "execution_count": null,
   "metadata": {},
   "outputs": [],
   "source": [
    "import numpy as np\n",
    "from models_perso import GammaKnnOS, SimpleKnn, wKnn\n",
    "from sklearn.metrics import confusion_matrix\n",
    "from sklearn.model_selection import train_test_split\n",
    "\n",
    "X_train, X_test, y_train, y_test = train_test_split(X, y, test_size=0.2)\n",
    "beta =1\n",
    "\n",
    "knn = SimpleKnn(nb_nn=3)\n",
    "knn.fit(X_train, y_train,\"SMOTE\")\n",
    "pred = knn.predict(X_test)\n",
    "\n",
    "TN, FP, FN, TP = confusion_matrix(y_test, pred).ravel()\n",
    "f_measure = (1+beta**2)*TP / ((1+beta**2)*TP+(beta**2)*FN+FP)\n",
    "knn_F=round(f_measure, 3)\n",
    "\n",
    "wknn = wKnn(nb_nn=3)\n",
    "wknn.fit(X_train, y_train,\"SMOTE\")\n",
    "pred = wknn.predict(X_test)\n",
    "\n",
    "TN, FP, FN, TP = confusion_matrix(y_test, pred).ravel()\n",
    "f_measure = (1+beta**2)*TP / ((1+beta**2)*TP+(beta**2)*FN+FP)\n",
    "wknn_F=round(f_measure, 3)\n",
    "\n",
    "\n",
    "results=[]\n",
    "\n",
    "gamma_list=np.arange(0, 2.1, 0.1)\n",
    "for gamma in gamma_list:\n",
    "    X_train, X_test, y_train, y_test = train_test_split(X, y, test_size=0.2,random_state=123)\n",
    "    gammaKnn = GammaKnnOS(nb_nn=3, gamma=gamma)\n",
    "    gammaKnn.fit(X_train, y_train,\"SMOTE\")\n",
    "\n",
    "    pred = gammaKnn.predict(X_test)\n",
    "    TN, FP, FN, TP = confusion_matrix(y_test, pred).ravel()\n",
    "\n",
    "    f_measure = (1+beta**2)*TP / ((1+beta**2)*TP+(beta**2)*FN+FP)\n",
    "    results.append({\"gamma\":round(gamma,2),\"F\":round(f_measure, 3),\"TN\":TN,\"FP\":FP,\"FN\":FN,\"TP\":TP})"
   ]
  }
 ],
 "metadata": {
  "kernelspec": {
   "display_name": "Python 3",
   "language": "python",
   "name": "python3"
  },
  "language_info": {
   "codemirror_mode": {
    "name": "ipython",
    "version": 3
   },
   "file_extension": ".py",
   "mimetype": "text/x-python",
   "name": "python",
   "nbconvert_exporter": "python",
   "pygments_lexer": "ipython3",
   "version": "3.7.0"
  }
 },
 "nbformat": 4,
 "nbformat_minor": 4
}
