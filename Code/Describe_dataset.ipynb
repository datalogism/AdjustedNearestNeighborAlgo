{
 "cells": [
  {
   "cell_type": "markdown",
   "metadata": {},
   "source": [
    "### IMPORT DATASET AND BUILD MATRIX"
   ]
  },
  {
   "cell_type": "code",
   "execution_count": 40,
   "metadata": {},
   "outputs": [
    {
     "name": "stdout",
     "output_type": "stream",
     "text": [
      "         1     2     3     4    5    6     7     8    9\n",
      "0     0.58  0.61  0.47  0.13  0.5  0.0  0.48  0.22  MIT\n",
      "1     0.43  0.67  0.48  0.27  0.5  0.0  0.53  0.22  MIT\n",
      "2     0.64  0.62  0.49  0.15  0.5  0.0  0.53  0.22  MIT\n",
      "3     0.58  0.44  0.57  0.13  0.5  0.0  0.54  0.22  NUC\n",
      "4     0.42  0.44  0.48  0.54  0.5  0.0  0.48  0.22  MIT\n",
      "...    ...   ...   ...   ...  ...  ...   ...   ...  ...\n",
      "1479  0.81  0.62  0.43  0.17  0.5  0.0  0.53  0.22  ME2\n",
      "1480  0.47  0.43  0.61  0.40  0.5  0.0  0.48  0.47  NUC\n",
      "1481  0.67  0.57  0.36  0.19  0.5  0.0  0.56  0.22  ME2\n",
      "1482  0.43  0.40  0.60  0.16  0.5  0.0  0.53  0.39  NUC\n",
      "1483  0.65  0.54  0.54  0.13  0.5  0.0  0.53  0.22  CYT\n",
      "\n",
      "[1484 rows x 9 columns]\n",
      "         1     2     3     4    5    6     7     8    9\n",
      "0     0.58  0.61  0.47  0.13  0.5  0.0  0.48  0.22  MIT\n",
      "1     0.43  0.67  0.48  0.27  0.5  0.0  0.53  0.22  MIT\n",
      "2     0.64  0.62  0.49  0.15  0.5  0.0  0.53  0.22  MIT\n",
      "3     0.58  0.44  0.57  0.13  0.5  0.0  0.54  0.22  NUC\n",
      "4     0.42  0.44  0.48  0.54  0.5  0.0  0.48  0.22  MIT\n",
      "...    ...   ...   ...   ...  ...  ...   ...   ...  ...\n",
      "1479  0.81  0.62  0.43  0.17  0.5  0.0  0.53  0.22  ME2\n",
      "1480  0.47  0.43  0.61  0.40  0.5  0.0  0.48  0.47  NUC\n",
      "1481  0.67  0.57  0.36  0.19  0.5  0.0  0.56  0.22  ME2\n",
      "1482  0.43  0.40  0.60  0.16  0.5  0.0  0.53  0.39  NUC\n",
      "1483  0.65  0.54  0.54  0.13  0.5  0.0  0.53  0.22  CYT\n",
      "\n",
      "[1484 rows x 9 columns]\n"
     ]
    }
   ],
   "source": [
    "import mock\n",
    "import time\n",
    "import os\n",
    "\n",
    "from functions import data_recovery\n",
    "\n",
    "date = time.strftime(\"%Y_%b_%d_%H_%M_%S\", time.localtime(round(time.time())))\n",
    "\n",
    "dataset_list=[\"satimage\",\"pageblocks\",\"abalone20\",\"abalone17\",\\\n",
    "                    \"abalone8\",\"segmentation\",\"wine4\",\"yeast6\",\"yeast3\",\\\n",
    "                    \"german\",\"vehicle\",\"pima\",\"balance\",\"autompg\",\"libras\",\\\n",
    "                    \"iono\",\"glass\",\"wine\",\"hayes\"]\n",
    "\n",
    "opt = mock.Mock()\n",
    "dataset_stats=[]\n",
    "opt.dataset = None\n",
    "for ds in dataset_list:\n",
    "\tsetattr(opt, 'dataset', ds)\n",
    "\tX, y, dim = data_recovery(opt, date)\n",
    "\tsize = X.shape[0]\n",
    "\tunique, counts = np.unique(y, return_counts=True)\n",
    "\tstat=dict(zip(unique, counts))\n",
    "\tif(1 in stat.keys()):\n",
    "\t\tpos_part=stat[1]/size*100\n",
    "\t\tneg_part=100-pos_part\n",
    "\telse:\n",
    "\t\tpos_part=0\n",
    "\t\tneg_part=100\n",
    "\tr_n_part=round(neg_part,2)\n",
    "\tr_p_part=round(pos_part,2)\n",
    "\tif(pos_part>0):\n",
    "\t\tr_IR=round(neg_part/r_p_part,2)\n",
    "\telse:\n",
    "\t\tr_IR=0\n",
    "\tdataset_stats.append({\"dataset\":ds,\"size\":size,\"dim\":dim,\"pos_part\":r_p_part,\"neg_part\":r_n_part,\"IR\": r_IR})\n",
    "\n"
   ]
  },
  {
   "cell_type": "code",
   "execution_count": 43,
   "metadata": {},
   "outputs": [
    {
     "name": "stdout",
     "output_type": "stream",
     "text": [
      "         dataset  size  dim  pos_part  neg_part      IR\n",
      "0       satimage  6435   36      9.73     90.27    9.28\n",
      "1     pageblocks  5473   10     10.23     89.77    8.77\n",
      "2      abalone20  4177   10      0.62     99.38  160.29\n",
      "3      abalone17  4177   10      1.39     98.61   70.94\n",
      "4       abalone8  4177   10     13.60     86.40    6.35\n",
      "5   segmentation  2310   19     14.29     85.71    6.00\n",
      "6          wine4  1599   11      3.31     96.69   29.21\n",
      "7         yeast6  1484    8      0.00    100.00    0.00\n",
      "8         yeast3  1484    8      0.00    100.00    0.00\n",
      "9         german  1000   24     30.00     70.00    2.33\n",
      "10       vehicle   846   18     23.52     76.48    3.25\n",
      "11          pima   768    8     34.90     65.10    1.87\n",
      "12       balance   625    4     46.08     53.92    1.17\n",
      "13       autompg   392    7     37.50     62.50    1.67\n",
      "14        libras   360   90      6.67     93.33   13.99\n",
      "15          iono   351   34     35.90     64.10    1.79\n",
      "16         glass   214    9     32.71     67.29    2.06\n",
      "17          wine   178   13     33.15     66.85    2.02\n",
      "18         hayes   132    4     22.73     77.27    3.40\n"
     ]
    }
   ],
   "source": [
    "DS=pd.DataFrame(dataset_stats)\n",
    "print(DS)"
   ]
  },
  {
   "cell_type": "markdown",
   "metadata": {},
   "source": [
    "### CHECK IMBALANCED RATE"
   ]
  },
  {
   "cell_type": "code",
   "execution_count": 189,
   "metadata": {},
   "outputs": [
    {
     "data": {
      "application/javascript": [
       "/* Put everything inside the global mpl namespace */\n",
       "window.mpl = {};\n",
       "\n",
       "\n",
       "mpl.get_websocket_type = function() {\n",
       "    if (typeof(WebSocket) !== 'undefined') {\n",
       "        return WebSocket;\n",
       "    } else if (typeof(MozWebSocket) !== 'undefined') {\n",
       "        return MozWebSocket;\n",
       "    } else {\n",
       "        alert('Your browser does not have WebSocket support. ' +\n",
       "              'Please try Chrome, Safari or Firefox ≥ 6. ' +\n",
       "              'Firefox 4 and 5 are also supported but you ' +\n",
       "              'have to enable WebSockets in about:config.');\n",
       "    };\n",
       "}\n",
       "\n",
       "mpl.figure = function(figure_id, websocket, ondownload, parent_element) {\n",
       "    this.id = figure_id;\n",
       "\n",
       "    this.ws = websocket;\n",
       "\n",
       "    this.supports_binary = (this.ws.binaryType != undefined);\n",
       "\n",
       "    if (!this.supports_binary) {\n",
       "        var warnings = document.getElementById(\"mpl-warnings\");\n",
       "        if (warnings) {\n",
       "            warnings.style.display = 'block';\n",
       "            warnings.textContent = (\n",
       "                \"This browser does not support binary websocket messages. \" +\n",
       "                    \"Performance may be slow.\");\n",
       "        }\n",
       "    }\n",
       "\n",
       "    this.imageObj = new Image();\n",
       "\n",
       "    this.context = undefined;\n",
       "    this.message = undefined;\n",
       "    this.canvas = undefined;\n",
       "    this.rubberband_canvas = undefined;\n",
       "    this.rubberband_context = undefined;\n",
       "    this.format_dropdown = undefined;\n",
       "\n",
       "    this.image_mode = 'full';\n",
       "\n",
       "    this.root = $('<div/>');\n",
       "    this._root_extra_style(this.root)\n",
       "    this.root.attr('style', 'display: inline-block');\n",
       "\n",
       "    $(parent_element).append(this.root);\n",
       "\n",
       "    this._init_header(this);\n",
       "    this._init_canvas(this);\n",
       "    this._init_toolbar(this);\n",
       "\n",
       "    var fig = this;\n",
       "\n",
       "    this.waiting = false;\n",
       "\n",
       "    this.ws.onopen =  function () {\n",
       "            fig.send_message(\"supports_binary\", {value: fig.supports_binary});\n",
       "            fig.send_message(\"send_image_mode\", {});\n",
       "            if (mpl.ratio != 1) {\n",
       "                fig.send_message(\"set_dpi_ratio\", {'dpi_ratio': mpl.ratio});\n",
       "            }\n",
       "            fig.send_message(\"refresh\", {});\n",
       "        }\n",
       "\n",
       "    this.imageObj.onload = function() {\n",
       "            if (fig.image_mode == 'full') {\n",
       "                // Full images could contain transparency (where diff images\n",
       "                // almost always do), so we need to clear the canvas so that\n",
       "                // there is no ghosting.\n",
       "                fig.context.clearRect(0, 0, fig.canvas.width, fig.canvas.height);\n",
       "            }\n",
       "            fig.context.drawImage(fig.imageObj, 0, 0);\n",
       "        };\n",
       "\n",
       "    this.imageObj.onunload = function() {\n",
       "        fig.ws.close();\n",
       "    }\n",
       "\n",
       "    this.ws.onmessage = this._make_on_message_function(this);\n",
       "\n",
       "    this.ondownload = ondownload;\n",
       "}\n",
       "\n",
       "mpl.figure.prototype._init_header = function() {\n",
       "    var titlebar = $(\n",
       "        '<div class=\"ui-dialog-titlebar ui-widget-header ui-corner-all ' +\n",
       "        'ui-helper-clearfix\"/>');\n",
       "    var titletext = $(\n",
       "        '<div class=\"ui-dialog-title\" style=\"width: 100%; ' +\n",
       "        'text-align: center; padding: 3px;\"/>');\n",
       "    titlebar.append(titletext)\n",
       "    this.root.append(titlebar);\n",
       "    this.header = titletext[0];\n",
       "}\n",
       "\n",
       "\n",
       "\n",
       "mpl.figure.prototype._canvas_extra_style = function(canvas_div) {\n",
       "\n",
       "}\n",
       "\n",
       "\n",
       "mpl.figure.prototype._root_extra_style = function(canvas_div) {\n",
       "\n",
       "}\n",
       "\n",
       "mpl.figure.prototype._init_canvas = function() {\n",
       "    var fig = this;\n",
       "\n",
       "    var canvas_div = $('<div/>');\n",
       "\n",
       "    canvas_div.attr('style', 'position: relative; clear: both; outline: 0');\n",
       "\n",
       "    function canvas_keyboard_event(event) {\n",
       "        return fig.key_event(event, event['data']);\n",
       "    }\n",
       "\n",
       "    canvas_div.keydown('key_press', canvas_keyboard_event);\n",
       "    canvas_div.keyup('key_release', canvas_keyboard_event);\n",
       "    this.canvas_div = canvas_div\n",
       "    this._canvas_extra_style(canvas_div)\n",
       "    this.root.append(canvas_div);\n",
       "\n",
       "    var canvas = $('<canvas/>');\n",
       "    canvas.addClass('mpl-canvas');\n",
       "    canvas.attr('style', \"left: 0; top: 0; z-index: 0; outline: 0\")\n",
       "\n",
       "    this.canvas = canvas[0];\n",
       "    this.context = canvas[0].getContext(\"2d\");\n",
       "\n",
       "    var backingStore = this.context.backingStorePixelRatio ||\n",
       "\tthis.context.webkitBackingStorePixelRatio ||\n",
       "\tthis.context.mozBackingStorePixelRatio ||\n",
       "\tthis.context.msBackingStorePixelRatio ||\n",
       "\tthis.context.oBackingStorePixelRatio ||\n",
       "\tthis.context.backingStorePixelRatio || 1;\n",
       "\n",
       "    mpl.ratio = (window.devicePixelRatio || 1) / backingStore;\n",
       "\n",
       "    var rubberband = $('<canvas/>');\n",
       "    rubberband.attr('style', \"position: absolute; left: 0; top: 0; z-index: 1;\")\n",
       "\n",
       "    var pass_mouse_events = true;\n",
       "\n",
       "    canvas_div.resizable({\n",
       "        start: function(event, ui) {\n",
       "            pass_mouse_events = false;\n",
       "        },\n",
       "        resize: function(event, ui) {\n",
       "            fig.request_resize(ui.size.width, ui.size.height);\n",
       "        },\n",
       "        stop: function(event, ui) {\n",
       "            pass_mouse_events = true;\n",
       "            fig.request_resize(ui.size.width, ui.size.height);\n",
       "        },\n",
       "    });\n",
       "\n",
       "    function mouse_event_fn(event) {\n",
       "        if (pass_mouse_events)\n",
       "            return fig.mouse_event(event, event['data']);\n",
       "    }\n",
       "\n",
       "    rubberband.mousedown('button_press', mouse_event_fn);\n",
       "    rubberband.mouseup('button_release', mouse_event_fn);\n",
       "    // Throttle sequential mouse events to 1 every 20ms.\n",
       "    rubberband.mousemove('motion_notify', mouse_event_fn);\n",
       "\n",
       "    rubberband.mouseenter('figure_enter', mouse_event_fn);\n",
       "    rubberband.mouseleave('figure_leave', mouse_event_fn);\n",
       "\n",
       "    canvas_div.on(\"wheel\", function (event) {\n",
       "        event = event.originalEvent;\n",
       "        event['data'] = 'scroll'\n",
       "        if (event.deltaY < 0) {\n",
       "            event.step = 1;\n",
       "        } else {\n",
       "            event.step = -1;\n",
       "        }\n",
       "        mouse_event_fn(event);\n",
       "    });\n",
       "\n",
       "    canvas_div.append(canvas);\n",
       "    canvas_div.append(rubberband);\n",
       "\n",
       "    this.rubberband = rubberband;\n",
       "    this.rubberband_canvas = rubberband[0];\n",
       "    this.rubberband_context = rubberband[0].getContext(\"2d\");\n",
       "    this.rubberband_context.strokeStyle = \"#000000\";\n",
       "\n",
       "    this._resize_canvas = function(width, height) {\n",
       "        // Keep the size of the canvas, canvas container, and rubber band\n",
       "        // canvas in synch.\n",
       "        canvas_div.css('width', width)\n",
       "        canvas_div.css('height', height)\n",
       "\n",
       "        canvas.attr('width', width * mpl.ratio);\n",
       "        canvas.attr('height', height * mpl.ratio);\n",
       "        canvas.attr('style', 'width: ' + width + 'px; height: ' + height + 'px;');\n",
       "\n",
       "        rubberband.attr('width', width);\n",
       "        rubberband.attr('height', height);\n",
       "    }\n",
       "\n",
       "    // Set the figure to an initial 600x600px, this will subsequently be updated\n",
       "    // upon first draw.\n",
       "    this._resize_canvas(600, 600);\n",
       "\n",
       "    // Disable right mouse context menu.\n",
       "    $(this.rubberband_canvas).bind(\"contextmenu\",function(e){\n",
       "        return false;\n",
       "    });\n",
       "\n",
       "    function set_focus () {\n",
       "        canvas.focus();\n",
       "        canvas_div.focus();\n",
       "    }\n",
       "\n",
       "    window.setTimeout(set_focus, 100);\n",
       "}\n",
       "\n",
       "mpl.figure.prototype._init_toolbar = function() {\n",
       "    var fig = this;\n",
       "\n",
       "    var nav_element = $('<div/>');\n",
       "    nav_element.attr('style', 'width: 100%');\n",
       "    this.root.append(nav_element);\n",
       "\n",
       "    // Define a callback function for later on.\n",
       "    function toolbar_event(event) {\n",
       "        return fig.toolbar_button_onclick(event['data']);\n",
       "    }\n",
       "    function toolbar_mouse_event(event) {\n",
       "        return fig.toolbar_button_onmouseover(event['data']);\n",
       "    }\n",
       "\n",
       "    for(var toolbar_ind in mpl.toolbar_items) {\n",
       "        var name = mpl.toolbar_items[toolbar_ind][0];\n",
       "        var tooltip = mpl.toolbar_items[toolbar_ind][1];\n",
       "        var image = mpl.toolbar_items[toolbar_ind][2];\n",
       "        var method_name = mpl.toolbar_items[toolbar_ind][3];\n",
       "\n",
       "        if (!name) {\n",
       "            // put a spacer in here.\n",
       "            continue;\n",
       "        }\n",
       "        var button = $('<button/>');\n",
       "        button.addClass('ui-button ui-widget ui-state-default ui-corner-all ' +\n",
       "                        'ui-button-icon-only');\n",
       "        button.attr('role', 'button');\n",
       "        button.attr('aria-disabled', 'false');\n",
       "        button.click(method_name, toolbar_event);\n",
       "        button.mouseover(tooltip, toolbar_mouse_event);\n",
       "\n",
       "        var icon_img = $('<span/>');\n",
       "        icon_img.addClass('ui-button-icon-primary ui-icon');\n",
       "        icon_img.addClass(image);\n",
       "        icon_img.addClass('ui-corner-all');\n",
       "\n",
       "        var tooltip_span = $('<span/>');\n",
       "        tooltip_span.addClass('ui-button-text');\n",
       "        tooltip_span.html(tooltip);\n",
       "\n",
       "        button.append(icon_img);\n",
       "        button.append(tooltip_span);\n",
       "\n",
       "        nav_element.append(button);\n",
       "    }\n",
       "\n",
       "    var fmt_picker_span = $('<span/>');\n",
       "\n",
       "    var fmt_picker = $('<select/>');\n",
       "    fmt_picker.addClass('mpl-toolbar-option ui-widget ui-widget-content');\n",
       "    fmt_picker_span.append(fmt_picker);\n",
       "    nav_element.append(fmt_picker_span);\n",
       "    this.format_dropdown = fmt_picker[0];\n",
       "\n",
       "    for (var ind in mpl.extensions) {\n",
       "        var fmt = mpl.extensions[ind];\n",
       "        var option = $(\n",
       "            '<option/>', {selected: fmt === mpl.default_extension}).html(fmt);\n",
       "        fmt_picker.append(option);\n",
       "    }\n",
       "\n",
       "    // Add hover states to the ui-buttons\n",
       "    $( \".ui-button\" ).hover(\n",
       "        function() { $(this).addClass(\"ui-state-hover\");},\n",
       "        function() { $(this).removeClass(\"ui-state-hover\");}\n",
       "    );\n",
       "\n",
       "    var status_bar = $('<span class=\"mpl-message\"/>');\n",
       "    nav_element.append(status_bar);\n",
       "    this.message = status_bar[0];\n",
       "}\n",
       "\n",
       "mpl.figure.prototype.request_resize = function(x_pixels, y_pixels) {\n",
       "    // Request matplotlib to resize the figure. Matplotlib will then trigger a resize in the client,\n",
       "    // which will in turn request a refresh of the image.\n",
       "    this.send_message('resize', {'width': x_pixels, 'height': y_pixels});\n",
       "}\n",
       "\n",
       "mpl.figure.prototype.send_message = function(type, properties) {\n",
       "    properties['type'] = type;\n",
       "    properties['figure_id'] = this.id;\n",
       "    this.ws.send(JSON.stringify(properties));\n",
       "}\n",
       "\n",
       "mpl.figure.prototype.send_draw_message = function() {\n",
       "    if (!this.waiting) {\n",
       "        this.waiting = true;\n",
       "        this.ws.send(JSON.stringify({type: \"draw\", figure_id: this.id}));\n",
       "    }\n",
       "}\n",
       "\n",
       "\n",
       "mpl.figure.prototype.handle_save = function(fig, msg) {\n",
       "    var format_dropdown = fig.format_dropdown;\n",
       "    var format = format_dropdown.options[format_dropdown.selectedIndex].value;\n",
       "    fig.ondownload(fig, format);\n",
       "}\n",
       "\n",
       "\n",
       "mpl.figure.prototype.handle_resize = function(fig, msg) {\n",
       "    var size = msg['size'];\n",
       "    if (size[0] != fig.canvas.width || size[1] != fig.canvas.height) {\n",
       "        fig._resize_canvas(size[0], size[1]);\n",
       "        fig.send_message(\"refresh\", {});\n",
       "    };\n",
       "}\n",
       "\n",
       "mpl.figure.prototype.handle_rubberband = function(fig, msg) {\n",
       "    var x0 = msg['x0'] / mpl.ratio;\n",
       "    var y0 = (fig.canvas.height - msg['y0']) / mpl.ratio;\n",
       "    var x1 = msg['x1'] / mpl.ratio;\n",
       "    var y1 = (fig.canvas.height - msg['y1']) / mpl.ratio;\n",
       "    x0 = Math.floor(x0) + 0.5;\n",
       "    y0 = Math.floor(y0) + 0.5;\n",
       "    x1 = Math.floor(x1) + 0.5;\n",
       "    y1 = Math.floor(y1) + 0.5;\n",
       "    var min_x = Math.min(x0, x1);\n",
       "    var min_y = Math.min(y0, y1);\n",
       "    var width = Math.abs(x1 - x0);\n",
       "    var height = Math.abs(y1 - y0);\n",
       "\n",
       "    fig.rubberband_context.clearRect(\n",
       "        0, 0, fig.canvas.width / mpl.ratio, fig.canvas.height / mpl.ratio);\n",
       "\n",
       "    fig.rubberband_context.strokeRect(min_x, min_y, width, height);\n",
       "}\n",
       "\n",
       "mpl.figure.prototype.handle_figure_label = function(fig, msg) {\n",
       "    // Updates the figure title.\n",
       "    fig.header.textContent = msg['label'];\n",
       "}\n",
       "\n",
       "mpl.figure.prototype.handle_cursor = function(fig, msg) {\n",
       "    var cursor = msg['cursor'];\n",
       "    switch(cursor)\n",
       "    {\n",
       "    case 0:\n",
       "        cursor = 'pointer';\n",
       "        break;\n",
       "    case 1:\n",
       "        cursor = 'default';\n",
       "        break;\n",
       "    case 2:\n",
       "        cursor = 'crosshair';\n",
       "        break;\n",
       "    case 3:\n",
       "        cursor = 'move';\n",
       "        break;\n",
       "    }\n",
       "    fig.rubberband_canvas.style.cursor = cursor;\n",
       "}\n",
       "\n",
       "mpl.figure.prototype.handle_message = function(fig, msg) {\n",
       "    fig.message.textContent = msg['message'];\n",
       "}\n",
       "\n",
       "mpl.figure.prototype.handle_draw = function(fig, msg) {\n",
       "    // Request the server to send over a new figure.\n",
       "    fig.send_draw_message();\n",
       "}\n",
       "\n",
       "mpl.figure.prototype.handle_image_mode = function(fig, msg) {\n",
       "    fig.image_mode = msg['mode'];\n",
       "}\n",
       "\n",
       "mpl.figure.prototype.updated_canvas_event = function() {\n",
       "    // Called whenever the canvas gets updated.\n",
       "    this.send_message(\"ack\", {});\n",
       "}\n",
       "\n",
       "// A function to construct a web socket function for onmessage handling.\n",
       "// Called in the figure constructor.\n",
       "mpl.figure.prototype._make_on_message_function = function(fig) {\n",
       "    return function socket_on_message(evt) {\n",
       "        if (evt.data instanceof Blob) {\n",
       "            /* FIXME: We get \"Resource interpreted as Image but\n",
       "             * transferred with MIME type text/plain:\" errors on\n",
       "             * Chrome.  But how to set the MIME type?  It doesn't seem\n",
       "             * to be part of the websocket stream */\n",
       "            evt.data.type = \"image/png\";\n",
       "\n",
       "            /* Free the memory for the previous frames */\n",
       "            if (fig.imageObj.src) {\n",
       "                (window.URL || window.webkitURL).revokeObjectURL(\n",
       "                    fig.imageObj.src);\n",
       "            }\n",
       "\n",
       "            fig.imageObj.src = (window.URL || window.webkitURL).createObjectURL(\n",
       "                evt.data);\n",
       "            fig.updated_canvas_event();\n",
       "            fig.waiting = false;\n",
       "            return;\n",
       "        }\n",
       "        else if (typeof evt.data === 'string' && evt.data.slice(0, 21) == \"data:image/png;base64\") {\n",
       "            fig.imageObj.src = evt.data;\n",
       "            fig.updated_canvas_event();\n",
       "            fig.waiting = false;\n",
       "            return;\n",
       "        }\n",
       "\n",
       "        var msg = JSON.parse(evt.data);\n",
       "        var msg_type = msg['type'];\n",
       "\n",
       "        // Call the  \"handle_{type}\" callback, which takes\n",
       "        // the figure and JSON message as its only arguments.\n",
       "        try {\n",
       "            var callback = fig[\"handle_\" + msg_type];\n",
       "        } catch (e) {\n",
       "            console.log(\"No handler for the '\" + msg_type + \"' message type: \", msg);\n",
       "            return;\n",
       "        }\n",
       "\n",
       "        if (callback) {\n",
       "            try {\n",
       "                // console.log(\"Handling '\" + msg_type + \"' message: \", msg);\n",
       "                callback(fig, msg);\n",
       "            } catch (e) {\n",
       "                console.log(\"Exception inside the 'handler_\" + msg_type + \"' callback:\", e, e.stack, msg);\n",
       "            }\n",
       "        }\n",
       "    };\n",
       "}\n",
       "\n",
       "// from http://stackoverflow.com/questions/1114465/getting-mouse-location-in-canvas\n",
       "mpl.findpos = function(e) {\n",
       "    //this section is from http://www.quirksmode.org/js/events_properties.html\n",
       "    var targ;\n",
       "    if (!e)\n",
       "        e = window.event;\n",
       "    if (e.target)\n",
       "        targ = e.target;\n",
       "    else if (e.srcElement)\n",
       "        targ = e.srcElement;\n",
       "    if (targ.nodeType == 3) // defeat Safari bug\n",
       "        targ = targ.parentNode;\n",
       "\n",
       "    // jQuery normalizes the pageX and pageY\n",
       "    // pageX,Y are the mouse positions relative to the document\n",
       "    // offset() returns the position of the element relative to the document\n",
       "    var x = e.pageX - $(targ).offset().left;\n",
       "    var y = e.pageY - $(targ).offset().top;\n",
       "\n",
       "    return {\"x\": x, \"y\": y};\n",
       "};\n",
       "\n",
       "/*\n",
       " * return a copy of an object with only non-object keys\n",
       " * we need this to avoid circular references\n",
       " * http://stackoverflow.com/a/24161582/3208463\n",
       " */\n",
       "function simpleKeys (original) {\n",
       "  return Object.keys(original).reduce(function (obj, key) {\n",
       "    if (typeof original[key] !== 'object')\n",
       "        obj[key] = original[key]\n",
       "    return obj;\n",
       "  }, {});\n",
       "}\n",
       "\n",
       "mpl.figure.prototype.mouse_event = function(event, name) {\n",
       "    var canvas_pos = mpl.findpos(event)\n",
       "\n",
       "    if (name === 'button_press')\n",
       "    {\n",
       "        this.canvas.focus();\n",
       "        this.canvas_div.focus();\n",
       "    }\n",
       "\n",
       "    var x = canvas_pos.x * mpl.ratio;\n",
       "    var y = canvas_pos.y * mpl.ratio;\n",
       "\n",
       "    this.send_message(name, {x: x, y: y, button: event.button,\n",
       "                             step: event.step,\n",
       "                             guiEvent: simpleKeys(event)});\n",
       "\n",
       "    /* This prevents the web browser from automatically changing to\n",
       "     * the text insertion cursor when the button is pressed.  We want\n",
       "     * to control all of the cursor setting manually through the\n",
       "     * 'cursor' event from matplotlib */\n",
       "    event.preventDefault();\n",
       "    return false;\n",
       "}\n",
       "\n",
       "mpl.figure.prototype._key_event_extra = function(event, name) {\n",
       "    // Handle any extra behaviour associated with a key event\n",
       "}\n",
       "\n",
       "mpl.figure.prototype.key_event = function(event, name) {\n",
       "\n",
       "    // Prevent repeat events\n",
       "    if (name == 'key_press')\n",
       "    {\n",
       "        if (event.which === this._key)\n",
       "            return;\n",
       "        else\n",
       "            this._key = event.which;\n",
       "    }\n",
       "    if (name == 'key_release')\n",
       "        this._key = null;\n",
       "\n",
       "    var value = '';\n",
       "    if (event.ctrlKey && event.which != 17)\n",
       "        value += \"ctrl+\";\n",
       "    if (event.altKey && event.which != 18)\n",
       "        value += \"alt+\";\n",
       "    if (event.shiftKey && event.which != 16)\n",
       "        value += \"shift+\";\n",
       "\n",
       "    value += 'k';\n",
       "    value += event.which.toString();\n",
       "\n",
       "    this._key_event_extra(event, name);\n",
       "\n",
       "    this.send_message(name, {key: value,\n",
       "                             guiEvent: simpleKeys(event)});\n",
       "    return false;\n",
       "}\n",
       "\n",
       "mpl.figure.prototype.toolbar_button_onclick = function(name) {\n",
       "    if (name == 'download') {\n",
       "        this.handle_save(this, null);\n",
       "    } else {\n",
       "        this.send_message(\"toolbar_button\", {name: name});\n",
       "    }\n",
       "};\n",
       "\n",
       "mpl.figure.prototype.toolbar_button_onmouseover = function(tooltip) {\n",
       "    this.message.textContent = tooltip;\n",
       "};\n",
       "mpl.toolbar_items = [[\"Home\", \"Reset original view\", \"fa fa-home icon-home\", \"home\"], [\"Back\", \"Back to previous view\", \"fa fa-arrow-left icon-arrow-left\", \"back\"], [\"Forward\", \"Forward to next view\", \"fa fa-arrow-right icon-arrow-right\", \"forward\"], [\"\", \"\", \"\", \"\"], [\"Pan\", \"Pan axes with left mouse, zoom with right\", \"fa fa-arrows icon-move\", \"pan\"], [\"Zoom\", \"Zoom to rectangle\", \"fa fa-square-o icon-check-empty\", \"zoom\"], [\"\", \"\", \"\", \"\"], [\"Download\", \"Download plot\", \"fa fa-floppy-o icon-save\", \"download\"]];\n",
       "\n",
       "mpl.extensions = [\"eps\", \"jpeg\", \"pdf\", \"png\", \"ps\", \"raw\", \"svg\", \"tif\"];\n",
       "\n",
       "mpl.default_extension = \"png\";var comm_websocket_adapter = function(comm) {\n",
       "    // Create a \"websocket\"-like object which calls the given IPython comm\n",
       "    // object with the appropriate methods. Currently this is a non binary\n",
       "    // socket, so there is still some room for performance tuning.\n",
       "    var ws = {};\n",
       "\n",
       "    ws.close = function() {\n",
       "        comm.close()\n",
       "    };\n",
       "    ws.send = function(m) {\n",
       "        //console.log('sending', m);\n",
       "        comm.send(m);\n",
       "    };\n",
       "    // Register the callback with on_msg.\n",
       "    comm.on_msg(function(msg) {\n",
       "        //console.log('receiving', msg['content']['data'], msg);\n",
       "        // Pass the mpl event to the overridden (by mpl) onmessage function.\n",
       "        ws.onmessage(msg['content']['data'])\n",
       "    });\n",
       "    return ws;\n",
       "}\n",
       "\n",
       "mpl.mpl_figure_comm = function(comm, msg) {\n",
       "    // This is the function which gets called when the mpl process\n",
       "    // starts-up an IPython Comm through the \"matplotlib\" channel.\n",
       "\n",
       "    var id = msg.content.data.id;\n",
       "    // Get hold of the div created by the display call when the Comm\n",
       "    // socket was opened in Python.\n",
       "    var element = $(\"#\" + id);\n",
       "    var ws_proxy = comm_websocket_adapter(comm)\n",
       "\n",
       "    function ondownload(figure, format) {\n",
       "        window.open(figure.imageObj.src);\n",
       "    }\n",
       "\n",
       "    var fig = new mpl.figure(id, ws_proxy,\n",
       "                           ondownload,\n",
       "                           element.get(0));\n",
       "\n",
       "    // Call onopen now - mpl needs it, as it is assuming we've passed it a real\n",
       "    // web socket which is closed, not our websocket->open comm proxy.\n",
       "    ws_proxy.onopen();\n",
       "\n",
       "    fig.parent_element = element.get(0);\n",
       "    fig.cell_info = mpl.find_output_cell(\"<div id='\" + id + \"'></div>\");\n",
       "    if (!fig.cell_info) {\n",
       "        console.error(\"Failed to find cell for figure\", id, fig);\n",
       "        return;\n",
       "    }\n",
       "\n",
       "    var output_index = fig.cell_info[2]\n",
       "    var cell = fig.cell_info[0];\n",
       "\n",
       "};\n",
       "\n",
       "mpl.figure.prototype.handle_close = function(fig, msg) {\n",
       "    var width = fig.canvas.width/mpl.ratio\n",
       "    fig.root.unbind('remove')\n",
       "\n",
       "    // Update the output cell to use the data from the current canvas.\n",
       "    fig.push_to_output();\n",
       "    var dataURL = fig.canvas.toDataURL();\n",
       "    // Re-enable the keyboard manager in IPython - without this line, in FF,\n",
       "    // the notebook keyboard shortcuts fail.\n",
       "    IPython.keyboard_manager.enable()\n",
       "    $(fig.parent_element).html('<img src=\"' + dataURL + '\" width=\"' + width + '\">');\n",
       "    fig.close_ws(fig, msg);\n",
       "}\n",
       "\n",
       "mpl.figure.prototype.close_ws = function(fig, msg){\n",
       "    fig.send_message('closing', msg);\n",
       "    // fig.ws.close()\n",
       "}\n",
       "\n",
       "mpl.figure.prototype.push_to_output = function(remove_interactive) {\n",
       "    // Turn the data on the canvas into data in the output cell.\n",
       "    var width = this.canvas.width/mpl.ratio\n",
       "    var dataURL = this.canvas.toDataURL();\n",
       "    this.cell_info[1]['text/html'] = '<img src=\"' + dataURL + '\" width=\"' + width + '\">';\n",
       "}\n",
       "\n",
       "mpl.figure.prototype.updated_canvas_event = function() {\n",
       "    // Tell IPython that the notebook contents must change.\n",
       "    IPython.notebook.set_dirty(true);\n",
       "    this.send_message(\"ack\", {});\n",
       "    var fig = this;\n",
       "    // Wait a second, then push the new image to the DOM so\n",
       "    // that it is saved nicely (might be nice to debounce this).\n",
       "    setTimeout(function () { fig.push_to_output() }, 1000);\n",
       "}\n",
       "\n",
       "mpl.figure.prototype._init_toolbar = function() {\n",
       "    var fig = this;\n",
       "\n",
       "    var nav_element = $('<div/>');\n",
       "    nav_element.attr('style', 'width: 100%');\n",
       "    this.root.append(nav_element);\n",
       "\n",
       "    // Define a callback function for later on.\n",
       "    function toolbar_event(event) {\n",
       "        return fig.toolbar_button_onclick(event['data']);\n",
       "    }\n",
       "    function toolbar_mouse_event(event) {\n",
       "        return fig.toolbar_button_onmouseover(event['data']);\n",
       "    }\n",
       "\n",
       "    for(var toolbar_ind in mpl.toolbar_items){\n",
       "        var name = mpl.toolbar_items[toolbar_ind][0];\n",
       "        var tooltip = mpl.toolbar_items[toolbar_ind][1];\n",
       "        var image = mpl.toolbar_items[toolbar_ind][2];\n",
       "        var method_name = mpl.toolbar_items[toolbar_ind][3];\n",
       "\n",
       "        if (!name) { continue; };\n",
       "\n",
       "        var button = $('<button class=\"btn btn-default\" href=\"#\" title=\"' + name + '\"><i class=\"fa ' + image + ' fa-lg\"></i></button>');\n",
       "        button.click(method_name, toolbar_event);\n",
       "        button.mouseover(tooltip, toolbar_mouse_event);\n",
       "        nav_element.append(button);\n",
       "    }\n",
       "\n",
       "    // Add the status bar.\n",
       "    var status_bar = $('<span class=\"mpl-message\" style=\"text-align:right; float: right;\"/>');\n",
       "    nav_element.append(status_bar);\n",
       "    this.message = status_bar[0];\n",
       "\n",
       "    // Add the close button to the window.\n",
       "    var buttongrp = $('<div class=\"btn-group inline pull-right\"></div>');\n",
       "    var button = $('<button class=\"btn btn-mini btn-primary\" href=\"#\" title=\"Stop Interaction\"><i class=\"fa fa-power-off icon-remove icon-large\"></i></button>');\n",
       "    button.click(function (evt) { fig.handle_close(fig, {}); } );\n",
       "    button.mouseover('Stop Interaction', toolbar_mouse_event);\n",
       "    buttongrp.append(button);\n",
       "    var titlebar = this.root.find($('.ui-dialog-titlebar'));\n",
       "    titlebar.prepend(buttongrp);\n",
       "}\n",
       "\n",
       "mpl.figure.prototype._root_extra_style = function(el){\n",
       "    var fig = this\n",
       "    el.on(\"remove\", function(){\n",
       "\tfig.close_ws(fig, {});\n",
       "    });\n",
       "}\n",
       "\n",
       "mpl.figure.prototype._canvas_extra_style = function(el){\n",
       "    // this is important to make the div 'focusable\n",
       "    el.attr('tabindex', 0)\n",
       "    // reach out to IPython and tell the keyboard manager to turn it's self\n",
       "    // off when our div gets focus\n",
       "\n",
       "    // location in version 3\n",
       "    if (IPython.notebook.keyboard_manager) {\n",
       "        IPython.notebook.keyboard_manager.register_events(el);\n",
       "    }\n",
       "    else {\n",
       "        // location in version 2\n",
       "        IPython.keyboard_manager.register_events(el);\n",
       "    }\n",
       "\n",
       "}\n",
       "\n",
       "mpl.figure.prototype._key_event_extra = function(event, name) {\n",
       "    var manager = IPython.notebook.keyboard_manager;\n",
       "    if (!manager)\n",
       "        manager = IPython.keyboard_manager;\n",
       "\n",
       "    // Check for shift+enter\n",
       "    if (event.shiftKey && event.which == 13) {\n",
       "        this.canvas_div.blur();\n",
       "        // select the cell after this one\n",
       "        var index = IPython.notebook.find_cell_index(this.cell_info[0]);\n",
       "        IPython.notebook.select(index + 1);\n",
       "    }\n",
       "}\n",
       "\n",
       "mpl.figure.prototype.handle_save = function(fig, msg) {\n",
       "    fig.ondownload(fig, null);\n",
       "}\n",
       "\n",
       "\n",
       "mpl.find_output_cell = function(html_output) {\n",
       "    // Return the cell and output element which can be found *uniquely* in the notebook.\n",
       "    // Note - this is a bit hacky, but it is done because the \"notebook_saving.Notebook\"\n",
       "    // IPython event is triggered only after the cells have been serialised, which for\n",
       "    // our purposes (turning an active figure into a static one), is too late.\n",
       "    var cells = IPython.notebook.get_cells();\n",
       "    var ncells = cells.length;\n",
       "    for (var i=0; i<ncells; i++) {\n",
       "        var cell = cells[i];\n",
       "        if (cell.cell_type === 'code'){\n",
       "            for (var j=0; j<cell.output_area.outputs.length; j++) {\n",
       "                var data = cell.output_area.outputs[j];\n",
       "                if (data.data) {\n",
       "                    // IPython >= 3 moved mimebundle to data attribute of output\n",
       "                    data = data.data;\n",
       "                }\n",
       "                if (data['text/html'] == html_output) {\n",
       "                    return [cell, data, j];\n",
       "                }\n",
       "            }\n",
       "        }\n",
       "    }\n",
       "}\n",
       "\n",
       "// Register the function which deals with the matplotlib target/channel.\n",
       "// The kernel may be null if the page has been refreshed.\n",
       "if (IPython.notebook.kernel != null) {\n",
       "    IPython.notebook.kernel.comm_manager.register_target('matplotlib', mpl.mpl_figure_comm);\n",
       "}\n"
      ],
      "text/plain": [
       "<IPython.core.display.Javascript object>"
      ]
     },
     "metadata": {},
     "output_type": "display_data"
    },
    {
     "data": {
      "text/html": [
       "<img src=\"data:image/png;base64,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\" width=\"899.8000000000001\">"
      ],
      "text/plain": [
       "<IPython.core.display.HTML object>"
      ]
     },
     "metadata": {},
     "output_type": "display_data"
    }
   ],
   "source": [
    "import matplotlib.pyplot as plt\n",
    "\n",
    "sortedDS=DS.sort_values(by=['IR'])\n",
    "names = sortedDS['dataset']\n",
    "values = sortedDS['IR']\n",
    "\n",
    "plt.figure(figsize=(9, 10))\n",
    "\n",
    "plt.bar(names, values)\n",
    "plt.suptitle('Categorical Plotting')\n",
    "plt.xticks(rotation=45)\n",
    "plt.show()"
   ]
  },
  {
   "cell_type": "markdown",
   "metadata": {},
   "source": [
    "### ANALYSIS OF Imbalance rate by dataset"
   ]
  },
  {
   "cell_type": "code",
   "execution_count": 77,
   "metadata": {},
   "outputs": [
    {
     "data": {
      "application/vnd.plotly.v1+json": {
       "config": {
        "plotlyServerURL": "https://plot.ly"
       },
       "data": [
        {
         "hoverlabel": {
          "namelength": 0
         },
         "hovertemplate": "size=%{x}<br>IR=%{y}<br>dataset=%{text}<br>pos_part=%{marker.color}",
         "legendgroup": "",
         "marker": {
          "color": [
           9.73,
           10.23,
           0.62,
           1.39,
           13.6,
           14.29,
           3.31,
           0,
           0,
           30,
           23.52,
           34.9,
           46.08,
           37.5,
           6.67,
           35.9,
           32.71,
           33.15,
           22.73
          ],
          "coloraxis": "coloraxis",
          "symbol": "circle"
         },
         "mode": "markers+text",
         "name": "",
         "showlegend": false,
         "text": [
          "satimage",
          "pageblocks",
          "abalone20",
          "abalone17",
          "abalone8",
          "segmentation",
          "wine4",
          "yeast6",
          "yeast3",
          "german",
          "vehicle",
          "pima",
          "balance",
          "autompg",
          "libras",
          "iono",
          "glass",
          "wine",
          "hayes"
         ],
         "textposition": "top center",
         "type": "scatter",
         "x": [
          6435,
          5473,
          4177,
          4177,
          4177,
          2310,
          1599,
          1484,
          1484,
          1000,
          846,
          768,
          625,
          392,
          360,
          351,
          214,
          178,
          132
         ],
         "xaxis": "x",
         "y": [
          9.28,
          8.77,
          160.29,
          70.94,
          6.35,
          6,
          29.21,
          0,
          0,
          2.33,
          3.25,
          1.87,
          1.17,
          1.67,
          13.99,
          1.79,
          2.06,
          2.02,
          3.4
         ],
         "yaxis": "y"
        }
       ],
       "layout": {
        "coloraxis": {
         "colorbar": {
          "title": {
           "text": "pos_part"
          }
         },
         "colorscale": [
          [
           0,
           "#0d0887"
          ],
          [
           0.1111111111111111,
           "#46039f"
          ],
          [
           0.2222222222222222,
           "#7201a8"
          ],
          [
           0.3333333333333333,
           "#9c179e"
          ],
          [
           0.4444444444444444,
           "#bd3786"
          ],
          [
           0.5555555555555556,
           "#d8576b"
          ],
          [
           0.6666666666666666,
           "#ed7953"
          ],
          [
           0.7777777777777778,
           "#fb9f3a"
          ],
          [
           0.8888888888888888,
           "#fdca26"
          ],
          [
           1,
           "#f0f921"
          ]
         ]
        },
        "height": 600,
        "legend": {
         "tracegroupgap": 0
        },
        "margin": {
         "t": 60
        },
        "template": {
         "data": {
          "bar": [
           {
            "error_x": {
             "color": "#2a3f5f"
            },
            "error_y": {
             "color": "#2a3f5f"
            },
            "marker": {
             "line": {
              "color": "#E5ECF6",
              "width": 0.5
             }
            },
            "type": "bar"
           }
          ],
          "barpolar": [
           {
            "marker": {
             "line": {
              "color": "#E5ECF6",
              "width": 0.5
             }
            },
            "type": "barpolar"
           }
          ],
          "carpet": [
           {
            "aaxis": {
             "endlinecolor": "#2a3f5f",
             "gridcolor": "white",
             "linecolor": "white",
             "minorgridcolor": "white",
             "startlinecolor": "#2a3f5f"
            },
            "baxis": {
             "endlinecolor": "#2a3f5f",
             "gridcolor": "white",
             "linecolor": "white",
             "minorgridcolor": "white",
             "startlinecolor": "#2a3f5f"
            },
            "type": "carpet"
           }
          ],
          "choropleth": [
           {
            "colorbar": {
             "outlinewidth": 0,
             "ticks": ""
            },
            "type": "choropleth"
           }
          ],
          "contour": [
           {
            "colorbar": {
             "outlinewidth": 0,
             "ticks": ""
            },
            "colorscale": [
             [
              0,
              "#0d0887"
             ],
             [
              0.1111111111111111,
              "#46039f"
             ],
             [
              0.2222222222222222,
              "#7201a8"
             ],
             [
              0.3333333333333333,
              "#9c179e"
             ],
             [
              0.4444444444444444,
              "#bd3786"
             ],
             [
              0.5555555555555556,
              "#d8576b"
             ],
             [
              0.6666666666666666,
              "#ed7953"
             ],
             [
              0.7777777777777778,
              "#fb9f3a"
             ],
             [
              0.8888888888888888,
              "#fdca26"
             ],
             [
              1,
              "#f0f921"
             ]
            ],
            "type": "contour"
           }
          ],
          "contourcarpet": [
           {
            "colorbar": {
             "outlinewidth": 0,
             "ticks": ""
            },
            "type": "contourcarpet"
           }
          ],
          "heatmap": [
           {
            "colorbar": {
             "outlinewidth": 0,
             "ticks": ""
            },
            "colorscale": [
             [
              0,
              "#0d0887"
             ],
             [
              0.1111111111111111,
              "#46039f"
             ],
             [
              0.2222222222222222,
              "#7201a8"
             ],
             [
              0.3333333333333333,
              "#9c179e"
             ],
             [
              0.4444444444444444,
              "#bd3786"
             ],
             [
              0.5555555555555556,
              "#d8576b"
             ],
             [
              0.6666666666666666,
              "#ed7953"
             ],
             [
              0.7777777777777778,
              "#fb9f3a"
             ],
             [
              0.8888888888888888,
              "#fdca26"
             ],
             [
              1,
              "#f0f921"
             ]
            ],
            "type": "heatmap"
           }
          ],
          "heatmapgl": [
           {
            "colorbar": {
             "outlinewidth": 0,
             "ticks": ""
            },
            "colorscale": [
             [
              0,
              "#0d0887"
             ],
             [
              0.1111111111111111,
              "#46039f"
             ],
             [
              0.2222222222222222,
              "#7201a8"
             ],
             [
              0.3333333333333333,
              "#9c179e"
             ],
             [
              0.4444444444444444,
              "#bd3786"
             ],
             [
              0.5555555555555556,
              "#d8576b"
             ],
             [
              0.6666666666666666,
              "#ed7953"
             ],
             [
              0.7777777777777778,
              "#fb9f3a"
             ],
             [
              0.8888888888888888,
              "#fdca26"
             ],
             [
              1,
              "#f0f921"
             ]
            ],
            "type": "heatmapgl"
           }
          ],
          "histogram": [
           {
            "marker": {
             "colorbar": {
              "outlinewidth": 0,
              "ticks": ""
             }
            },
            "type": "histogram"
           }
          ],
          "histogram2d": [
           {
            "colorbar": {
             "outlinewidth": 0,
             "ticks": ""
            },
            "colorscale": [
             [
              0,
              "#0d0887"
             ],
             [
              0.1111111111111111,
              "#46039f"
             ],
             [
              0.2222222222222222,
              "#7201a8"
             ],
             [
              0.3333333333333333,
              "#9c179e"
             ],
             [
              0.4444444444444444,
              "#bd3786"
             ],
             [
              0.5555555555555556,
              "#d8576b"
             ],
             [
              0.6666666666666666,
              "#ed7953"
             ],
             [
              0.7777777777777778,
              "#fb9f3a"
             ],
             [
              0.8888888888888888,
              "#fdca26"
             ],
             [
              1,
              "#f0f921"
             ]
            ],
            "type": "histogram2d"
           }
          ],
          "histogram2dcontour": [
           {
            "colorbar": {
             "outlinewidth": 0,
             "ticks": ""
            },
            "colorscale": [
             [
              0,
              "#0d0887"
             ],
             [
              0.1111111111111111,
              "#46039f"
             ],
             [
              0.2222222222222222,
              "#7201a8"
             ],
             [
              0.3333333333333333,
              "#9c179e"
             ],
             [
              0.4444444444444444,
              "#bd3786"
             ],
             [
              0.5555555555555556,
              "#d8576b"
             ],
             [
              0.6666666666666666,
              "#ed7953"
             ],
             [
              0.7777777777777778,
              "#fb9f3a"
             ],
             [
              0.8888888888888888,
              "#fdca26"
             ],
             [
              1,
              "#f0f921"
             ]
            ],
            "type": "histogram2dcontour"
           }
          ],
          "mesh3d": [
           {
            "colorbar": {
             "outlinewidth": 0,
             "ticks": ""
            },
            "type": "mesh3d"
           }
          ],
          "parcoords": [
           {
            "line": {
             "colorbar": {
              "outlinewidth": 0,
              "ticks": ""
             }
            },
            "type": "parcoords"
           }
          ],
          "pie": [
           {
            "automargin": true,
            "type": "pie"
           }
          ],
          "scatter": [
           {
            "marker": {
             "colorbar": {
              "outlinewidth": 0,
              "ticks": ""
             }
            },
            "type": "scatter"
           }
          ],
          "scatter3d": [
           {
            "line": {
             "colorbar": {
              "outlinewidth": 0,
              "ticks": ""
             }
            },
            "marker": {
             "colorbar": {
              "outlinewidth": 0,
              "ticks": ""
             }
            },
            "type": "scatter3d"
           }
          ],
          "scattercarpet": [
           {
            "marker": {
             "colorbar": {
              "outlinewidth": 0,
              "ticks": ""
             }
            },
            "type": "scattercarpet"
           }
          ],
          "scattergeo": [
           {
            "marker": {
             "colorbar": {
              "outlinewidth": 0,
              "ticks": ""
             }
            },
            "type": "scattergeo"
           }
          ],
          "scattergl": [
           {
            "marker": {
             "colorbar": {
              "outlinewidth": 0,
              "ticks": ""
             }
            },
            "type": "scattergl"
           }
          ],
          "scattermapbox": [
           {
            "marker": {
             "colorbar": {
              "outlinewidth": 0,
              "ticks": ""
             }
            },
            "type": "scattermapbox"
           }
          ],
          "scatterpolar": [
           {
            "marker": {
             "colorbar": {
              "outlinewidth": 0,
              "ticks": ""
             }
            },
            "type": "scatterpolar"
           }
          ],
          "scatterpolargl": [
           {
            "marker": {
             "colorbar": {
              "outlinewidth": 0,
              "ticks": ""
             }
            },
            "type": "scatterpolargl"
           }
          ],
          "scatterternary": [
           {
            "marker": {
             "colorbar": {
              "outlinewidth": 0,
              "ticks": ""
             }
            },
            "type": "scatterternary"
           }
          ],
          "surface": [
           {
            "colorbar": {
             "outlinewidth": 0,
             "ticks": ""
            },
            "colorscale": [
             [
              0,
              "#0d0887"
             ],
             [
              0.1111111111111111,
              "#46039f"
             ],
             [
              0.2222222222222222,
              "#7201a8"
             ],
             [
              0.3333333333333333,
              "#9c179e"
             ],
             [
              0.4444444444444444,
              "#bd3786"
             ],
             [
              0.5555555555555556,
              "#d8576b"
             ],
             [
              0.6666666666666666,
              "#ed7953"
             ],
             [
              0.7777777777777778,
              "#fb9f3a"
             ],
             [
              0.8888888888888888,
              "#fdca26"
             ],
             [
              1,
              "#f0f921"
             ]
            ],
            "type": "surface"
           }
          ],
          "table": [
           {
            "cells": {
             "fill": {
              "color": "#EBF0F8"
             },
             "line": {
              "color": "white"
             }
            },
            "header": {
             "fill": {
              "color": "#C8D4E3"
             },
             "line": {
              "color": "white"
             }
            },
            "type": "table"
           }
          ]
         },
         "layout": {
          "annotationdefaults": {
           "arrowcolor": "#2a3f5f",
           "arrowhead": 0,
           "arrowwidth": 1
          },
          "coloraxis": {
           "colorbar": {
            "outlinewidth": 0,
            "ticks": ""
           }
          },
          "colorscale": {
           "diverging": [
            [
             0,
             "#8e0152"
            ],
            [
             0.1,
             "#c51b7d"
            ],
            [
             0.2,
             "#de77ae"
            ],
            [
             0.3,
             "#f1b6da"
            ],
            [
             0.4,
             "#fde0ef"
            ],
            [
             0.5,
             "#f7f7f7"
            ],
            [
             0.6,
             "#e6f5d0"
            ],
            [
             0.7,
             "#b8e186"
            ],
            [
             0.8,
             "#7fbc41"
            ],
            [
             0.9,
             "#4d9221"
            ],
            [
             1,
             "#276419"
            ]
           ],
           "sequential": [
            [
             0,
             "#0d0887"
            ],
            [
             0.1111111111111111,
             "#46039f"
            ],
            [
             0.2222222222222222,
             "#7201a8"
            ],
            [
             0.3333333333333333,
             "#9c179e"
            ],
            [
             0.4444444444444444,
             "#bd3786"
            ],
            [
             0.5555555555555556,
             "#d8576b"
            ],
            [
             0.6666666666666666,
             "#ed7953"
            ],
            [
             0.7777777777777778,
             "#fb9f3a"
            ],
            [
             0.8888888888888888,
             "#fdca26"
            ],
            [
             1,
             "#f0f921"
            ]
           ],
           "sequentialminus": [
            [
             0,
             "#0d0887"
            ],
            [
             0.1111111111111111,
             "#46039f"
            ],
            [
             0.2222222222222222,
             "#7201a8"
            ],
            [
             0.3333333333333333,
             "#9c179e"
            ],
            [
             0.4444444444444444,
             "#bd3786"
            ],
            [
             0.5555555555555556,
             "#d8576b"
            ],
            [
             0.6666666666666666,
             "#ed7953"
            ],
            [
             0.7777777777777778,
             "#fb9f3a"
            ],
            [
             0.8888888888888888,
             "#fdca26"
            ],
            [
             1,
             "#f0f921"
            ]
           ]
          },
          "colorway": [
           "#636efa",
           "#EF553B",
           "#00cc96",
           "#ab63fa",
           "#FFA15A",
           "#19d3f3",
           "#FF6692",
           "#B6E880",
           "#FF97FF",
           "#FECB52"
          ],
          "font": {
           "color": "#2a3f5f"
          },
          "geo": {
           "bgcolor": "white",
           "lakecolor": "white",
           "landcolor": "#E5ECF6",
           "showlakes": true,
           "showland": true,
           "subunitcolor": "white"
          },
          "hoverlabel": {
           "align": "left"
          },
          "hovermode": "closest",
          "mapbox": {
           "style": "light"
          },
          "paper_bgcolor": "white",
          "plot_bgcolor": "#E5ECF6",
          "polar": {
           "angularaxis": {
            "gridcolor": "white",
            "linecolor": "white",
            "ticks": ""
           },
           "bgcolor": "#E5ECF6",
           "radialaxis": {
            "gridcolor": "white",
            "linecolor": "white",
            "ticks": ""
           }
          },
          "scene": {
           "xaxis": {
            "backgroundcolor": "#E5ECF6",
            "gridcolor": "white",
            "gridwidth": 2,
            "linecolor": "white",
            "showbackground": true,
            "ticks": "",
            "zerolinecolor": "white"
           },
           "yaxis": {
            "backgroundcolor": "#E5ECF6",
            "gridcolor": "white",
            "gridwidth": 2,
            "linecolor": "white",
            "showbackground": true,
            "ticks": "",
            "zerolinecolor": "white"
           },
           "zaxis": {
            "backgroundcolor": "#E5ECF6",
            "gridcolor": "white",
            "gridwidth": 2,
            "linecolor": "white",
            "showbackground": true,
            "ticks": "",
            "zerolinecolor": "white"
           }
          },
          "shapedefaults": {
           "line": {
            "color": "#2a3f5f"
           }
          },
          "ternary": {
           "aaxis": {
            "gridcolor": "white",
            "linecolor": "white",
            "ticks": ""
           },
           "baxis": {
            "gridcolor": "white",
            "linecolor": "white",
            "ticks": ""
           },
           "bgcolor": "#E5ECF6",
           "caxis": {
            "gridcolor": "white",
            "linecolor": "white",
            "ticks": ""
           }
          },
          "title": {
           "x": 0.05
          },
          "xaxis": {
           "automargin": true,
           "gridcolor": "white",
           "linecolor": "white",
           "ticks": "",
           "title": {
            "standoff": 15
           },
           "zerolinecolor": "white",
           "zerolinewidth": 2
          },
          "yaxis": {
           "automargin": true,
           "gridcolor": "white",
           "linecolor": "white",
           "ticks": "",
           "title": {
            "standoff": 15
           },
           "zerolinecolor": "white",
           "zerolinewidth": 2
          }
         }
        },
        "title": {
         "text": "Positive part, size and ",
         "x": 0.5
        },
        "xaxis": {
         "anchor": "y",
         "domain": [
          0,
          1
         ],
         "title": {
          "text": "size"
         }
        },
        "yaxis": {
         "anchor": "x",
         "domain": [
          0,
          1
         ],
         "title": {
          "text": "IR"
         }
        }
       }
      },
      "text/html": [
       "<div>\n",
       "        \n",
       "        \n",
       "            <div id=\"d53e12b1-ad4b-454e-b7b2-674c97138e81\" class=\"plotly-graph-div\" style=\"height:600px; width:100%;\"></div>\n",
       "            <script type=\"text/javascript\">\n",
       "                require([\"plotly\"], function(Plotly) {\n",
       "                    window.PLOTLYENV=window.PLOTLYENV || {};\n",
       "                    \n",
       "                if (document.getElementById(\"d53e12b1-ad4b-454e-b7b2-674c97138e81\")) {\n",
       "                    Plotly.newPlot(\n",
       "                        'd53e12b1-ad4b-454e-b7b2-674c97138e81',\n",
       "                        [{\"hoverlabel\": {\"namelength\": 0}, \"hovertemplate\": \"size=%{x}<br>IR=%{y}<br>dataset=%{text}<br>pos_part=%{marker.color}\", \"legendgroup\": \"\", \"marker\": {\"color\": [9.73, 10.23, 0.62, 1.39, 13.6, 14.29, 3.31, 0.0, 0.0, 30.0, 23.52, 34.9, 46.08, 37.5, 6.67, 35.9, 32.71, 33.15, 22.73], \"coloraxis\": \"coloraxis\", \"symbol\": \"circle\"}, \"mode\": \"markers+text\", \"name\": \"\", \"showlegend\": false, \"text\": [\"satimage\", \"pageblocks\", \"abalone20\", \"abalone17\", \"abalone8\", \"segmentation\", \"wine4\", \"yeast6\", \"yeast3\", \"german\", \"vehicle\", \"pima\", \"balance\", \"autompg\", \"libras\", \"iono\", \"glass\", \"wine\", \"hayes\"], \"textposition\": \"top center\", \"type\": \"scatter\", \"x\": [6435, 5473, 4177, 4177, 4177, 2310, 1599, 1484, 1484, 1000, 846, 768, 625, 392, 360, 351, 214, 178, 132], \"xaxis\": \"x\", \"y\": [9.28, 8.77, 160.29, 70.94, 6.35, 6.0, 29.21, 0.0, 0.0, 2.33, 3.25, 1.87, 1.17, 1.67, 13.99, 1.79, 2.06, 2.02, 3.4], \"yaxis\": \"y\"}],\n",
       "                        {\"coloraxis\": {\"colorbar\": {\"title\": {\"text\": \"pos_part\"}}, \"colorscale\": [[0.0, \"#0d0887\"], [0.1111111111111111, \"#46039f\"], [0.2222222222222222, \"#7201a8\"], [0.3333333333333333, \"#9c179e\"], [0.4444444444444444, \"#bd3786\"], [0.5555555555555556, \"#d8576b\"], [0.6666666666666666, \"#ed7953\"], [0.7777777777777778, \"#fb9f3a\"], [0.8888888888888888, \"#fdca26\"], [1.0, \"#f0f921\"]]}, \"height\": 600, \"legend\": {\"tracegroupgap\": 0}, \"margin\": {\"t\": 60}, \"template\": {\"data\": {\"bar\": [{\"error_x\": {\"color\": \"#2a3f5f\"}, \"error_y\": {\"color\": \"#2a3f5f\"}, \"marker\": {\"line\": {\"color\": \"#E5ECF6\", \"width\": 0.5}}, \"type\": \"bar\"}], \"barpolar\": [{\"marker\": {\"line\": {\"color\": \"#E5ECF6\", \"width\": 0.5}}, \"type\": \"barpolar\"}], \"carpet\": [{\"aaxis\": {\"endlinecolor\": \"#2a3f5f\", \"gridcolor\": \"white\", \"linecolor\": \"white\", \"minorgridcolor\": \"white\", \"startlinecolor\": \"#2a3f5f\"}, \"baxis\": {\"endlinecolor\": \"#2a3f5f\", \"gridcolor\": \"white\", \"linecolor\": \"white\", \"minorgridcolor\": \"white\", \"startlinecolor\": \"#2a3f5f\"}, \"type\": \"carpet\"}], \"choropleth\": [{\"colorbar\": {\"outlinewidth\": 0, \"ticks\": \"\"}, \"type\": \"choropleth\"}], \"contour\": [{\"colorbar\": {\"outlinewidth\": 0, \"ticks\": \"\"}, \"colorscale\": [[0.0, \"#0d0887\"], [0.1111111111111111, \"#46039f\"], [0.2222222222222222, \"#7201a8\"], [0.3333333333333333, \"#9c179e\"], [0.4444444444444444, \"#bd3786\"], [0.5555555555555556, \"#d8576b\"], [0.6666666666666666, \"#ed7953\"], [0.7777777777777778, \"#fb9f3a\"], [0.8888888888888888, \"#fdca26\"], [1.0, \"#f0f921\"]], \"type\": \"contour\"}], \"contourcarpet\": [{\"colorbar\": {\"outlinewidth\": 0, \"ticks\": \"\"}, \"type\": \"contourcarpet\"}], \"heatmap\": [{\"colorbar\": {\"outlinewidth\": 0, \"ticks\": \"\"}, \"colorscale\": [[0.0, \"#0d0887\"], [0.1111111111111111, \"#46039f\"], [0.2222222222222222, \"#7201a8\"], [0.3333333333333333, \"#9c179e\"], [0.4444444444444444, \"#bd3786\"], [0.5555555555555556, \"#d8576b\"], [0.6666666666666666, \"#ed7953\"], [0.7777777777777778, \"#fb9f3a\"], [0.8888888888888888, \"#fdca26\"], [1.0, \"#f0f921\"]], \"type\": \"heatmap\"}], \"heatmapgl\": [{\"colorbar\": {\"outlinewidth\": 0, \"ticks\": \"\"}, \"colorscale\": [[0.0, \"#0d0887\"], [0.1111111111111111, \"#46039f\"], [0.2222222222222222, \"#7201a8\"], [0.3333333333333333, \"#9c179e\"], [0.4444444444444444, \"#bd3786\"], [0.5555555555555556, \"#d8576b\"], [0.6666666666666666, \"#ed7953\"], [0.7777777777777778, \"#fb9f3a\"], [0.8888888888888888, \"#fdca26\"], [1.0, \"#f0f921\"]], \"type\": \"heatmapgl\"}], \"histogram\": [{\"marker\": {\"colorbar\": {\"outlinewidth\": 0, \"ticks\": \"\"}}, \"type\": \"histogram\"}], \"histogram2d\": [{\"colorbar\": {\"outlinewidth\": 0, \"ticks\": \"\"}, \"colorscale\": [[0.0, \"#0d0887\"], [0.1111111111111111, \"#46039f\"], [0.2222222222222222, \"#7201a8\"], [0.3333333333333333, \"#9c179e\"], [0.4444444444444444, \"#bd3786\"], [0.5555555555555556, \"#d8576b\"], [0.6666666666666666, \"#ed7953\"], [0.7777777777777778, \"#fb9f3a\"], [0.8888888888888888, \"#fdca26\"], [1.0, \"#f0f921\"]], \"type\": \"histogram2d\"}], \"histogram2dcontour\": [{\"colorbar\": {\"outlinewidth\": 0, \"ticks\": \"\"}, \"colorscale\": [[0.0, \"#0d0887\"], [0.1111111111111111, \"#46039f\"], [0.2222222222222222, \"#7201a8\"], [0.3333333333333333, \"#9c179e\"], [0.4444444444444444, \"#bd3786\"], [0.5555555555555556, \"#d8576b\"], [0.6666666666666666, \"#ed7953\"], [0.7777777777777778, \"#fb9f3a\"], [0.8888888888888888, \"#fdca26\"], [1.0, \"#f0f921\"]], \"type\": \"histogram2dcontour\"}], \"mesh3d\": [{\"colorbar\": {\"outlinewidth\": 0, \"ticks\": \"\"}, \"type\": \"mesh3d\"}], \"parcoords\": [{\"line\": {\"colorbar\": {\"outlinewidth\": 0, \"ticks\": \"\"}}, \"type\": \"parcoords\"}], \"pie\": [{\"automargin\": true, \"type\": \"pie\"}], \"scatter\": [{\"marker\": {\"colorbar\": {\"outlinewidth\": 0, \"ticks\": \"\"}}, \"type\": \"scatter\"}], \"scatter3d\": [{\"line\": {\"colorbar\": {\"outlinewidth\": 0, \"ticks\": \"\"}}, \"marker\": {\"colorbar\": {\"outlinewidth\": 0, \"ticks\": \"\"}}, \"type\": \"scatter3d\"}], \"scattercarpet\": [{\"marker\": {\"colorbar\": {\"outlinewidth\": 0, \"ticks\": \"\"}}, \"type\": \"scattercarpet\"}], \"scattergeo\": [{\"marker\": {\"colorbar\": {\"outlinewidth\": 0, \"ticks\": \"\"}}, \"type\": \"scattergeo\"}], \"scattergl\": [{\"marker\": {\"colorbar\": {\"outlinewidth\": 0, \"ticks\": \"\"}}, \"type\": \"scattergl\"}], \"scattermapbox\": [{\"marker\": {\"colorbar\": {\"outlinewidth\": 0, \"ticks\": \"\"}}, \"type\": \"scattermapbox\"}], \"scatterpolar\": [{\"marker\": {\"colorbar\": {\"outlinewidth\": 0, \"ticks\": \"\"}}, \"type\": \"scatterpolar\"}], \"scatterpolargl\": [{\"marker\": {\"colorbar\": {\"outlinewidth\": 0, \"ticks\": \"\"}}, \"type\": \"scatterpolargl\"}], \"scatterternary\": [{\"marker\": {\"colorbar\": {\"outlinewidth\": 0, \"ticks\": \"\"}}, \"type\": \"scatterternary\"}], \"surface\": [{\"colorbar\": {\"outlinewidth\": 0, \"ticks\": \"\"}, \"colorscale\": [[0.0, \"#0d0887\"], [0.1111111111111111, \"#46039f\"], [0.2222222222222222, \"#7201a8\"], [0.3333333333333333, \"#9c179e\"], [0.4444444444444444, \"#bd3786\"], [0.5555555555555556, \"#d8576b\"], [0.6666666666666666, \"#ed7953\"], [0.7777777777777778, \"#fb9f3a\"], [0.8888888888888888, \"#fdca26\"], [1.0, \"#f0f921\"]], \"type\": \"surface\"}], \"table\": [{\"cells\": {\"fill\": {\"color\": \"#EBF0F8\"}, \"line\": {\"color\": \"white\"}}, \"header\": {\"fill\": {\"color\": \"#C8D4E3\"}, \"line\": {\"color\": \"white\"}}, \"type\": \"table\"}]}, \"layout\": {\"annotationdefaults\": {\"arrowcolor\": \"#2a3f5f\", \"arrowhead\": 0, \"arrowwidth\": 1}, \"coloraxis\": {\"colorbar\": {\"outlinewidth\": 0, \"ticks\": \"\"}}, \"colorscale\": {\"diverging\": [[0, \"#8e0152\"], [0.1, \"#c51b7d\"], [0.2, \"#de77ae\"], [0.3, \"#f1b6da\"], [0.4, \"#fde0ef\"], [0.5, \"#f7f7f7\"], [0.6, \"#e6f5d0\"], [0.7, \"#b8e186\"], [0.8, \"#7fbc41\"], [0.9, \"#4d9221\"], [1, \"#276419\"]], \"sequential\": [[0.0, \"#0d0887\"], [0.1111111111111111, \"#46039f\"], [0.2222222222222222, \"#7201a8\"], [0.3333333333333333, \"#9c179e\"], [0.4444444444444444, \"#bd3786\"], [0.5555555555555556, \"#d8576b\"], [0.6666666666666666, \"#ed7953\"], [0.7777777777777778, \"#fb9f3a\"], [0.8888888888888888, \"#fdca26\"], [1.0, \"#f0f921\"]], \"sequentialminus\": [[0.0, \"#0d0887\"], [0.1111111111111111, \"#46039f\"], [0.2222222222222222, \"#7201a8\"], [0.3333333333333333, \"#9c179e\"], [0.4444444444444444, \"#bd3786\"], [0.5555555555555556, \"#d8576b\"], [0.6666666666666666, \"#ed7953\"], [0.7777777777777778, \"#fb9f3a\"], [0.8888888888888888, \"#fdca26\"], [1.0, \"#f0f921\"]]}, \"colorway\": [\"#636efa\", \"#EF553B\", \"#00cc96\", \"#ab63fa\", \"#FFA15A\", \"#19d3f3\", \"#FF6692\", \"#B6E880\", \"#FF97FF\", \"#FECB52\"], \"font\": {\"color\": \"#2a3f5f\"}, \"geo\": {\"bgcolor\": \"white\", \"lakecolor\": \"white\", \"landcolor\": \"#E5ECF6\", \"showlakes\": true, \"showland\": true, \"subunitcolor\": \"white\"}, \"hoverlabel\": {\"align\": \"left\"}, \"hovermode\": \"closest\", \"mapbox\": {\"style\": \"light\"}, \"paper_bgcolor\": \"white\", \"plot_bgcolor\": \"#E5ECF6\", \"polar\": {\"angularaxis\": {\"gridcolor\": \"white\", \"linecolor\": \"white\", \"ticks\": \"\"}, \"bgcolor\": \"#E5ECF6\", \"radialaxis\": {\"gridcolor\": \"white\", \"linecolor\": \"white\", \"ticks\": \"\"}}, \"scene\": {\"xaxis\": {\"backgroundcolor\": \"#E5ECF6\", \"gridcolor\": \"white\", \"gridwidth\": 2, \"linecolor\": \"white\", \"showbackground\": true, \"ticks\": \"\", \"zerolinecolor\": \"white\"}, \"yaxis\": {\"backgroundcolor\": \"#E5ECF6\", \"gridcolor\": \"white\", \"gridwidth\": 2, \"linecolor\": \"white\", \"showbackground\": true, \"ticks\": \"\", \"zerolinecolor\": \"white\"}, \"zaxis\": {\"backgroundcolor\": \"#E5ECF6\", \"gridcolor\": \"white\", \"gridwidth\": 2, \"linecolor\": \"white\", \"showbackground\": true, \"ticks\": \"\", \"zerolinecolor\": \"white\"}}, \"shapedefaults\": {\"line\": {\"color\": \"#2a3f5f\"}}, \"ternary\": {\"aaxis\": {\"gridcolor\": \"white\", \"linecolor\": \"white\", \"ticks\": \"\"}, \"baxis\": {\"gridcolor\": \"white\", \"linecolor\": \"white\", \"ticks\": \"\"}, \"bgcolor\": \"#E5ECF6\", \"caxis\": {\"gridcolor\": \"white\", \"linecolor\": \"white\", \"ticks\": \"\"}}, \"title\": {\"x\": 0.05}, \"xaxis\": {\"automargin\": true, \"gridcolor\": \"white\", \"linecolor\": \"white\", \"ticks\": \"\", \"title\": {\"standoff\": 15}, \"zerolinecolor\": \"white\", \"zerolinewidth\": 2}, \"yaxis\": {\"automargin\": true, \"gridcolor\": \"white\", \"linecolor\": \"white\", \"ticks\": \"\", \"title\": {\"standoff\": 15}, \"zerolinecolor\": \"white\", \"zerolinewidth\": 2}}}, \"title\": {\"text\": \"Positive part, size and \", \"x\": 0.5}, \"xaxis\": {\"anchor\": \"y\", \"domain\": [0.0, 1.0], \"title\": {\"text\": \"size\"}}, \"yaxis\": {\"anchor\": \"x\", \"domain\": [0.0, 1.0], \"title\": {\"text\": \"IR\"}}},\n",
       "                        {\"responsive\": true}\n",
       "                    ).then(function(){\n",
       "                            \n",
       "var gd = document.getElementById('d53e12b1-ad4b-454e-b7b2-674c97138e81');\n",
       "var x = new MutationObserver(function (mutations, observer) {{\n",
       "        var display = window.getComputedStyle(gd).display;\n",
       "        if (!display || display === 'none') {{\n",
       "            console.log([gd, 'removed!']);\n",
       "            Plotly.purge(gd);\n",
       "            observer.disconnect();\n",
       "        }}\n",
       "}});\n",
       "\n",
       "// Listen for the removal of the full notebook cells\n",
       "var notebookContainer = gd.closest('#notebook-container');\n",
       "if (notebookContainer) {{\n",
       "    x.observe(notebookContainer, {childList: true});\n",
       "}}\n",
       "\n",
       "// Listen for the clearing of the current output cell\n",
       "var outputEl = gd.closest('.output');\n",
       "if (outputEl) {{\n",
       "    x.observe(outputEl, {childList: true});\n",
       "}}\n",
       "\n",
       "                        })\n",
       "                };\n",
       "                });\n",
       "            </script>\n",
       "        </div>"
      ]
     },
     "metadata": {},
     "output_type": "display_data"
    }
   ],
   "source": [
    "import plotly.express as px\n",
    "\n",
    "\n",
    "\n",
    "fig = px.scatter(DS, x=\"size\", y=\"IR\", text=\"dataset\", log_x=False, size_max=100, color=\"pos_part\")\n",
    "fig.update_traces(textposition='top center')\n",
    "fig.update_layout(title_text='Positive part, size and ', title_x=0.5)\n",
    "fig.show()\n"
   ]
  }
 ],
 "metadata": {
  "kernelspec": {
   "display_name": "Python 3",
   "language": "python",
   "name": "python3"
  },
  "language_info": {
   "codemirror_mode": {
    "name": "ipython",
    "version": 3
   },
   "file_extension": ".py",
   "mimetype": "text/x-python",
   "name": "python",
   "nbconvert_exporter": "python",
   "pygments_lexer": "ipython3",
   "version": "3.7.0"
  }
 },
 "nbformat": 4,
 "nbformat_minor": 4
}
